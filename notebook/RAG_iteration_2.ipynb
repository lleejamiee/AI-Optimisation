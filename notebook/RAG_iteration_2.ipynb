{
 "nbformat": 4,
 "nbformat_minor": 0,
 "metadata": {
  "colab": {
   "provenance": []
  },
  "kernelspec": {
   "name": "python3",
   "display_name": "Python 3"
  },
  "language_info": {
   "name": "python"
  },
  "widgets": {
   "application/vnd.jupyter.widget-state+json": {
    "6d62f72c156049bdaf139183ad02e94f": {
     "model_module": "@jupyter-widgets/controls",
     "model_name": "HBoxModel",
     "model_module_version": "1.5.0",
     "state": {
      "_dom_classes": [],
      "_model_module": "@jupyter-widgets/controls",
      "_model_module_version": "1.5.0",
      "_model_name": "HBoxModel",
      "_view_count": null,
      "_view_module": "@jupyter-widgets/controls",
      "_view_module_version": "1.5.0",
      "_view_name": "HBoxView",
      "box_style": "",
      "children": [
       "IPY_MODEL_e4a36d3d7a394df1a55ee979b4a839f7",
       "IPY_MODEL_eb4da07ae18541188f02c61f6bef375d",
       "IPY_MODEL_290c65243b5c4fc88fbdb5ec4620ce1d"
      ],
      "layout": "IPY_MODEL_e869266ec476456eb9f8c0d5d29ba610"
     }
    },
    "e4a36d3d7a394df1a55ee979b4a839f7": {
     "model_module": "@jupyter-widgets/controls",
     "model_name": "HTMLModel",
     "model_module_version": "1.5.0",
     "state": {
      "_dom_classes": [],
      "_model_module": "@jupyter-widgets/controls",
      "_model_module_version": "1.5.0",
      "_model_name": "HTMLModel",
      "_view_count": null,
      "_view_module": "@jupyter-widgets/controls",
      "_view_module_version": "1.5.0",
      "_view_name": "HTMLView",
      "description": "",
      "description_tooltip": null,
      "layout": "IPY_MODEL_bf0f7b5027154074a7dc1c3a233c4e15",
      "placeholder": "​",
      "style": "IPY_MODEL_1f41c6dcf4de4eee912220768928a6fb",
      "value": "Batches: 100%"
     }
    },
    "eb4da07ae18541188f02c61f6bef375d": {
     "model_module": "@jupyter-widgets/controls",
     "model_name": "FloatProgressModel",
     "model_module_version": "1.5.0",
     "state": {
      "_dom_classes": [],
      "_model_module": "@jupyter-widgets/controls",
      "_model_module_version": "1.5.0",
      "_model_name": "FloatProgressModel",
      "_view_count": null,
      "_view_module": "@jupyter-widgets/controls",
      "_view_module_version": "1.5.0",
      "_view_name": "ProgressView",
      "bar_style": "success",
      "description": "",
      "description_tooltip": null,
      "layout": "IPY_MODEL_c61d0c16635a466c8d2c45daeedc4172",
      "max": 1,
      "min": 0,
      "orientation": "horizontal",
      "style": "IPY_MODEL_cb996d368f8d4b3687c520f80bbe0c14",
      "value": 1
     }
    },
    "290c65243b5c4fc88fbdb5ec4620ce1d": {
     "model_module": "@jupyter-widgets/controls",
     "model_name": "HTMLModel",
     "model_module_version": "1.5.0",
     "state": {
      "_dom_classes": [],
      "_model_module": "@jupyter-widgets/controls",
      "_model_module_version": "1.5.0",
      "_model_name": "HTMLModel",
      "_view_count": null,
      "_view_module": "@jupyter-widgets/controls",
      "_view_module_version": "1.5.0",
      "_view_name": "HTMLView",
      "description": "",
      "description_tooltip": null,
      "layout": "IPY_MODEL_040a9ecb83a2420dbf89a05a055e4627",
      "placeholder": "​",
      "style": "IPY_MODEL_0f6f458f7f5047f7abcff13f20a46c76",
      "value": " 1/1 [00:01&lt;00:00,  1.26s/it]"
     }
    },
    "e869266ec476456eb9f8c0d5d29ba610": {
     "model_module": "@jupyter-widgets/base",
     "model_name": "LayoutModel",
     "model_module_version": "1.2.0",
     "state": {
      "_model_module": "@jupyter-widgets/base",
      "_model_module_version": "1.2.0",
      "_model_name": "LayoutModel",
      "_view_count": null,
      "_view_module": "@jupyter-widgets/base",
      "_view_module_version": "1.2.0",
      "_view_name": "LayoutView",
      "align_content": null,
      "align_items": null,
      "align_self": null,
      "border": null,
      "bottom": null,
      "display": null,
      "flex": null,
      "flex_flow": null,
      "grid_area": null,
      "grid_auto_columns": null,
      "grid_auto_flow": null,
      "grid_auto_rows": null,
      "grid_column": null,
      "grid_gap": null,
      "grid_row": null,
      "grid_template_areas": null,
      "grid_template_columns": null,
      "grid_template_rows": null,
      "height": null,
      "justify_content": null,
      "justify_items": null,
      "left": null,
      "margin": null,
      "max_height": null,
      "max_width": null,
      "min_height": null,
      "min_width": null,
      "object_fit": null,
      "object_position": null,
      "order": null,
      "overflow": null,
      "overflow_x": null,
      "overflow_y": null,
      "padding": null,
      "right": null,
      "top": null,
      "visibility": null,
      "width": null
     }
    },
    "bf0f7b5027154074a7dc1c3a233c4e15": {
     "model_module": "@jupyter-widgets/base",
     "model_name": "LayoutModel",
     "model_module_version": "1.2.0",
     "state": {
      "_model_module": "@jupyter-widgets/base",
      "_model_module_version": "1.2.0",
      "_model_name": "LayoutModel",
      "_view_count": null,
      "_view_module": "@jupyter-widgets/base",
      "_view_module_version": "1.2.0",
      "_view_name": "LayoutView",
      "align_content": null,
      "align_items": null,
      "align_self": null,
      "border": null,
      "bottom": null,
      "display": null,
      "flex": null,
      "flex_flow": null,
      "grid_area": null,
      "grid_auto_columns": null,
      "grid_auto_flow": null,
      "grid_auto_rows": null,
      "grid_column": null,
      "grid_gap": null,
      "grid_row": null,
      "grid_template_areas": null,
      "grid_template_columns": null,
      "grid_template_rows": null,
      "height": null,
      "justify_content": null,
      "justify_items": null,
      "left": null,
      "margin": null,
      "max_height": null,
      "max_width": null,
      "min_height": null,
      "min_width": null,
      "object_fit": null,
      "object_position": null,
      "order": null,
      "overflow": null,
      "overflow_x": null,
      "overflow_y": null,
      "padding": null,
      "right": null,
      "top": null,
      "visibility": null,
      "width": null
     }
    },
    "1f41c6dcf4de4eee912220768928a6fb": {
     "model_module": "@jupyter-widgets/controls",
     "model_name": "DescriptionStyleModel",
     "model_module_version": "1.5.0",
     "state": {
      "_model_module": "@jupyter-widgets/controls",
      "_model_module_version": "1.5.0",
      "_model_name": "DescriptionStyleModel",
      "_view_count": null,
      "_view_module": "@jupyter-widgets/base",
      "_view_module_version": "1.2.0",
      "_view_name": "StyleView",
      "description_width": ""
     }
    },
    "c61d0c16635a466c8d2c45daeedc4172": {
     "model_module": "@jupyter-widgets/base",
     "model_name": "LayoutModel",
     "model_module_version": "1.2.0",
     "state": {
      "_model_module": "@jupyter-widgets/base",
      "_model_module_version": "1.2.0",
      "_model_name": "LayoutModel",
      "_view_count": null,
      "_view_module": "@jupyter-widgets/base",
      "_view_module_version": "1.2.0",
      "_view_name": "LayoutView",
      "align_content": null,
      "align_items": null,
      "align_self": null,
      "border": null,
      "bottom": null,
      "display": null,
      "flex": null,
      "flex_flow": null,
      "grid_area": null,
      "grid_auto_columns": null,
      "grid_auto_flow": null,
      "grid_auto_rows": null,
      "grid_column": null,
      "grid_gap": null,
      "grid_row": null,
      "grid_template_areas": null,
      "grid_template_columns": null,
      "grid_template_rows": null,
      "height": null,
      "justify_content": null,
      "justify_items": null,
      "left": null,
      "margin": null,
      "max_height": null,
      "max_width": null,
      "min_height": null,
      "min_width": null,
      "object_fit": null,
      "object_position": null,
      "order": null,
      "overflow": null,
      "overflow_x": null,
      "overflow_y": null,
      "padding": null,
      "right": null,
      "top": null,
      "visibility": null,
      "width": null
     }
    },
    "cb996d368f8d4b3687c520f80bbe0c14": {
     "model_module": "@jupyter-widgets/controls",
     "model_name": "ProgressStyleModel",
     "model_module_version": "1.5.0",
     "state": {
      "_model_module": "@jupyter-widgets/controls",
      "_model_module_version": "1.5.0",
      "_model_name": "ProgressStyleModel",
      "_view_count": null,
      "_view_module": "@jupyter-widgets/base",
      "_view_module_version": "1.2.0",
      "_view_name": "StyleView",
      "bar_color": null,
      "description_width": ""
     }
    },
    "040a9ecb83a2420dbf89a05a055e4627": {
     "model_module": "@jupyter-widgets/base",
     "model_name": "LayoutModel",
     "model_module_version": "1.2.0",
     "state": {
      "_model_module": "@jupyter-widgets/base",
      "_model_module_version": "1.2.0",
      "_model_name": "LayoutModel",
      "_view_count": null,
      "_view_module": "@jupyter-widgets/base",
      "_view_module_version": "1.2.0",
      "_view_name": "LayoutView",
      "align_content": null,
      "align_items": null,
      "align_self": null,
      "border": null,
      "bottom": null,
      "display": null,
      "flex": null,
      "flex_flow": null,
      "grid_area": null,
      "grid_auto_columns": null,
      "grid_auto_flow": null,
      "grid_auto_rows": null,
      "grid_column": null,
      "grid_gap": null,
      "grid_row": null,
      "grid_template_areas": null,
      "grid_template_columns": null,
      "grid_template_rows": null,
      "height": null,
      "justify_content": null,
      "justify_items": null,
      "left": null,
      "margin": null,
      "max_height": null,
      "max_width": null,
      "min_height": null,
      "min_width": null,
      "object_fit": null,
      "object_position": null,
      "order": null,
      "overflow": null,
      "overflow_x": null,
      "overflow_y": null,
      "padding": null,
      "right": null,
      "top": null,
      "visibility": null,
      "width": null
     }
    },
    "0f6f458f7f5047f7abcff13f20a46c76": {
     "model_module": "@jupyter-widgets/controls",
     "model_name": "DescriptionStyleModel",
     "model_module_version": "1.5.0",
     "state": {
      "_model_module": "@jupyter-widgets/controls",
      "_model_module_version": "1.5.0",
      "_model_name": "DescriptionStyleModel",
      "_view_count": null,
      "_view_module": "@jupyter-widgets/base",
      "_view_module_version": "1.2.0",
      "_view_name": "StyleView",
      "description_width": ""
     }
    },
    "44d30c6a5d3343f8b15a5f7183dbd51a": {
     "model_module": "@jupyter-widgets/controls",
     "model_name": "HBoxModel",
     "model_module_version": "1.5.0",
     "state": {
      "_dom_classes": [],
      "_model_module": "@jupyter-widgets/controls",
      "_model_module_version": "1.5.0",
      "_model_name": "HBoxModel",
      "_view_count": null,
      "_view_module": "@jupyter-widgets/controls",
      "_view_module_version": "1.5.0",
      "_view_name": "HBoxView",
      "box_style": "",
      "children": [
       "IPY_MODEL_3603e2c3916142869a9143e6690e2be4",
       "IPY_MODEL_60981522e0664d72a553c6394b8cf538",
       "IPY_MODEL_c205015129634b7ab7e0036ea5ed9311"
      ],
      "layout": "IPY_MODEL_19831321ae914d00b5dc4212597f1aa3"
     }
    },
    "3603e2c3916142869a9143e6690e2be4": {
     "model_module": "@jupyter-widgets/controls",
     "model_name": "HTMLModel",
     "model_module_version": "1.5.0",
     "state": {
      "_dom_classes": [],
      "_model_module": "@jupyter-widgets/controls",
      "_model_module_version": "1.5.0",
      "_model_name": "HTMLModel",
      "_view_count": null,
      "_view_module": "@jupyter-widgets/controls",
      "_view_module_version": "1.5.0",
      "_view_name": "HTMLView",
      "description": "",
      "description_tooltip": null,
      "layout": "IPY_MODEL_b15847b4254546cd863b718371c2f92e",
      "placeholder": "​",
      "style": "IPY_MODEL_3556f3310bd84ebf890afd71d51332f5",
      "value": "Batches: 100%"
     }
    },
    "60981522e0664d72a553c6394b8cf538": {
     "model_module": "@jupyter-widgets/controls",
     "model_name": "FloatProgressModel",
     "model_module_version": "1.5.0",
     "state": {
      "_dom_classes": [],
      "_model_module": "@jupyter-widgets/controls",
      "_model_module_version": "1.5.0",
      "_model_name": "FloatProgressModel",
      "_view_count": null,
      "_view_module": "@jupyter-widgets/controls",
      "_view_module_version": "1.5.0",
      "_view_name": "ProgressView",
      "bar_style": "success",
      "description": "",
      "description_tooltip": null,
      "layout": "IPY_MODEL_1c0b70d481994764a2556a0ac0c3312f",
      "max": 1,
      "min": 0,
      "orientation": "horizontal",
      "style": "IPY_MODEL_46dffa5905e146e4aaa0ed4e7d176baf",
      "value": 1
     }
    },
    "c205015129634b7ab7e0036ea5ed9311": {
     "model_module": "@jupyter-widgets/controls",
     "model_name": "HTMLModel",
     "model_module_version": "1.5.0",
     "state": {
      "_dom_classes": [],
      "_model_module": "@jupyter-widgets/controls",
      "_model_module_version": "1.5.0",
      "_model_name": "HTMLModel",
      "_view_count": null,
      "_view_module": "@jupyter-widgets/controls",
      "_view_module_version": "1.5.0",
      "_view_name": "HTMLView",
      "description": "",
      "description_tooltip": null,
      "layout": "IPY_MODEL_28249b747c444a8e8ef5f9cb6cf8a1e6",
      "placeholder": "​",
      "style": "IPY_MODEL_50992d7e53cf48f0811525087c750cbe",
      "value": " 1/1 [00:00&lt;00:00,  7.43it/s]"
     }
    },
    "19831321ae914d00b5dc4212597f1aa3": {
     "model_module": "@jupyter-widgets/base",
     "model_name": "LayoutModel",
     "model_module_version": "1.2.0",
     "state": {
      "_model_module": "@jupyter-widgets/base",
      "_model_module_version": "1.2.0",
      "_model_name": "LayoutModel",
      "_view_count": null,
      "_view_module": "@jupyter-widgets/base",
      "_view_module_version": "1.2.0",
      "_view_name": "LayoutView",
      "align_content": null,
      "align_items": null,
      "align_self": null,
      "border": null,
      "bottom": null,
      "display": null,
      "flex": null,
      "flex_flow": null,
      "grid_area": null,
      "grid_auto_columns": null,
      "grid_auto_flow": null,
      "grid_auto_rows": null,
      "grid_column": null,
      "grid_gap": null,
      "grid_row": null,
      "grid_template_areas": null,
      "grid_template_columns": null,
      "grid_template_rows": null,
      "height": null,
      "justify_content": null,
      "justify_items": null,
      "left": null,
      "margin": null,
      "max_height": null,
      "max_width": null,
      "min_height": null,
      "min_width": null,
      "object_fit": null,
      "object_position": null,
      "order": null,
      "overflow": null,
      "overflow_x": null,
      "overflow_y": null,
      "padding": null,
      "right": null,
      "top": null,
      "visibility": null,
      "width": null
     }
    },
    "b15847b4254546cd863b718371c2f92e": {
     "model_module": "@jupyter-widgets/base",
     "model_name": "LayoutModel",
     "model_module_version": "1.2.0",
     "state": {
      "_model_module": "@jupyter-widgets/base",
      "_model_module_version": "1.2.0",
      "_model_name": "LayoutModel",
      "_view_count": null,
      "_view_module": "@jupyter-widgets/base",
      "_view_module_version": "1.2.0",
      "_view_name": "LayoutView",
      "align_content": null,
      "align_items": null,
      "align_self": null,
      "border": null,
      "bottom": null,
      "display": null,
      "flex": null,
      "flex_flow": null,
      "grid_area": null,
      "grid_auto_columns": null,
      "grid_auto_flow": null,
      "grid_auto_rows": null,
      "grid_column": null,
      "grid_gap": null,
      "grid_row": null,
      "grid_template_areas": null,
      "grid_template_columns": null,
      "grid_template_rows": null,
      "height": null,
      "justify_content": null,
      "justify_items": null,
      "left": null,
      "margin": null,
      "max_height": null,
      "max_width": null,
      "min_height": null,
      "min_width": null,
      "object_fit": null,
      "object_position": null,
      "order": null,
      "overflow": null,
      "overflow_x": null,
      "overflow_y": null,
      "padding": null,
      "right": null,
      "top": null,
      "visibility": null,
      "width": null
     }
    },
    "3556f3310bd84ebf890afd71d51332f5": {
     "model_module": "@jupyter-widgets/controls",
     "model_name": "DescriptionStyleModel",
     "model_module_version": "1.5.0",
     "state": {
      "_model_module": "@jupyter-widgets/controls",
      "_model_module_version": "1.5.0",
      "_model_name": "DescriptionStyleModel",
      "_view_count": null,
      "_view_module": "@jupyter-widgets/base",
      "_view_module_version": "1.2.0",
      "_view_name": "StyleView",
      "description_width": ""
     }
    },
    "1c0b70d481994764a2556a0ac0c3312f": {
     "model_module": "@jupyter-widgets/base",
     "model_name": "LayoutModel",
     "model_module_version": "1.2.0",
     "state": {
      "_model_module": "@jupyter-widgets/base",
      "_model_module_version": "1.2.0",
      "_model_name": "LayoutModel",
      "_view_count": null,
      "_view_module": "@jupyter-widgets/base",
      "_view_module_version": "1.2.0",
      "_view_name": "LayoutView",
      "align_content": null,
      "align_items": null,
      "align_self": null,
      "border": null,
      "bottom": null,
      "display": null,
      "flex": null,
      "flex_flow": null,
      "grid_area": null,
      "grid_auto_columns": null,
      "grid_auto_flow": null,
      "grid_auto_rows": null,
      "grid_column": null,
      "grid_gap": null,
      "grid_row": null,
      "grid_template_areas": null,
      "grid_template_columns": null,
      "grid_template_rows": null,
      "height": null,
      "justify_content": null,
      "justify_items": null,
      "left": null,
      "margin": null,
      "max_height": null,
      "max_width": null,
      "min_height": null,
      "min_width": null,
      "object_fit": null,
      "object_position": null,
      "order": null,
      "overflow": null,
      "overflow_x": null,
      "overflow_y": null,
      "padding": null,
      "right": null,
      "top": null,
      "visibility": null,
      "width": null
     }
    },
    "46dffa5905e146e4aaa0ed4e7d176baf": {
     "model_module": "@jupyter-widgets/controls",
     "model_name": "ProgressStyleModel",
     "model_module_version": "1.5.0",
     "state": {
      "_model_module": "@jupyter-widgets/controls",
      "_model_module_version": "1.5.0",
      "_model_name": "ProgressStyleModel",
      "_view_count": null,
      "_view_module": "@jupyter-widgets/base",
      "_view_module_version": "1.2.0",
      "_view_name": "StyleView",
      "bar_color": null,
      "description_width": ""
     }
    },
    "28249b747c444a8e8ef5f9cb6cf8a1e6": {
     "model_module": "@jupyter-widgets/base",
     "model_name": "LayoutModel",
     "model_module_version": "1.2.0",
     "state": {
      "_model_module": "@jupyter-widgets/base",
      "_model_module_version": "1.2.0",
      "_model_name": "LayoutModel",
      "_view_count": null,
      "_view_module": "@jupyter-widgets/base",
      "_view_module_version": "1.2.0",
      "_view_name": "LayoutView",
      "align_content": null,
      "align_items": null,
      "align_self": null,
      "border": null,
      "bottom": null,
      "display": null,
      "flex": null,
      "flex_flow": null,
      "grid_area": null,
      "grid_auto_columns": null,
      "grid_auto_flow": null,
      "grid_auto_rows": null,
      "grid_column": null,
      "grid_gap": null,
      "grid_row": null,
      "grid_template_areas": null,
      "grid_template_columns": null,
      "grid_template_rows": null,
      "height": null,
      "justify_content": null,
      "justify_items": null,
      "left": null,
      "margin": null,
      "max_height": null,
      "max_width": null,
      "min_height": null,
      "min_width": null,
      "object_fit": null,
      "object_position": null,
      "order": null,
      "overflow": null,
      "overflow_x": null,
      "overflow_y": null,
      "padding": null,
      "right": null,
      "top": null,
      "visibility": null,
      "width": null
     }
    },
    "50992d7e53cf48f0811525087c750cbe": {
     "model_module": "@jupyter-widgets/controls",
     "model_name": "DescriptionStyleModel",
     "model_module_version": "1.5.0",
     "state": {
      "_model_module": "@jupyter-widgets/controls",
      "_model_module_version": "1.5.0",
      "_model_name": "DescriptionStyleModel",
      "_view_count": null,
      "_view_module": "@jupyter-widgets/base",
      "_view_module_version": "1.2.0",
      "_view_name": "StyleView",
      "description_width": ""
     }
    },
    "56a456d8467247e68d21293cdf2e326e": {
     "model_module": "@jupyter-widgets/controls",
     "model_name": "HBoxModel",
     "model_module_version": "1.5.0",
     "state": {
      "_dom_classes": [],
      "_model_module": "@jupyter-widgets/controls",
      "_model_module_version": "1.5.0",
      "_model_name": "HBoxModel",
      "_view_count": null,
      "_view_module": "@jupyter-widgets/controls",
      "_view_module_version": "1.5.0",
      "_view_name": "HBoxView",
      "box_style": "",
      "children": [
       "IPY_MODEL_7a9ff9ad02b141df9ae6d33aaafcbb26",
       "IPY_MODEL_57716bf963f340aa99c7db6a6fbd778c",
       "IPY_MODEL_5a89ba46900144889e91afc1054cc743"
      ],
      "layout": "IPY_MODEL_98c1edf5c5324452911eb5a90fbe230f"
     }
    },
    "7a9ff9ad02b141df9ae6d33aaafcbb26": {
     "model_module": "@jupyter-widgets/controls",
     "model_name": "HTMLModel",
     "model_module_version": "1.5.0",
     "state": {
      "_dom_classes": [],
      "_model_module": "@jupyter-widgets/controls",
      "_model_module_version": "1.5.0",
      "_model_name": "HTMLModel",
      "_view_count": null,
      "_view_module": "@jupyter-widgets/controls",
      "_view_module_version": "1.5.0",
      "_view_name": "HTMLView",
      "description": "",
      "description_tooltip": null,
      "layout": "IPY_MODEL_71ed3b3d7f064c22b26582f26d5c621f",
      "placeholder": "​",
      "style": "IPY_MODEL_c460c611cbd5493e856e7baf5cb03c21",
      "value": "Batches: 100%"
     }
    },
    "57716bf963f340aa99c7db6a6fbd778c": {
     "model_module": "@jupyter-widgets/controls",
     "model_name": "FloatProgressModel",
     "model_module_version": "1.5.0",
     "state": {
      "_dom_classes": [],
      "_model_module": "@jupyter-widgets/controls",
      "_model_module_version": "1.5.0",
      "_model_name": "FloatProgressModel",
      "_view_count": null,
      "_view_module": "@jupyter-widgets/controls",
      "_view_module_version": "1.5.0",
      "_view_name": "ProgressView",
      "bar_style": "success",
      "description": "",
      "description_tooltip": null,
      "layout": "IPY_MODEL_96a3d4340666445fb91d4816ed2ed99f",
      "max": 1,
      "min": 0,
      "orientation": "horizontal",
      "style": "IPY_MODEL_1fe44a3fb6c04dfabcef81db19f84038",
      "value": 1
     }
    },
    "5a89ba46900144889e91afc1054cc743": {
     "model_module": "@jupyter-widgets/controls",
     "model_name": "HTMLModel",
     "model_module_version": "1.5.0",
     "state": {
      "_dom_classes": [],
      "_model_module": "@jupyter-widgets/controls",
      "_model_module_version": "1.5.0",
      "_model_name": "HTMLModel",
      "_view_count": null,
      "_view_module": "@jupyter-widgets/controls",
      "_view_module_version": "1.5.0",
      "_view_name": "HTMLView",
      "description": "",
      "description_tooltip": null,
      "layout": "IPY_MODEL_16f5a8c8d31f419fa3f2c8aaaddc01b1",
      "placeholder": "​",
      "style": "IPY_MODEL_e159224d451a422eabb3a3c36ddd1cff",
      "value": " 1/1 [00:01&lt;00:00,  1.93s/it]"
     }
    },
    "98c1edf5c5324452911eb5a90fbe230f": {
     "model_module": "@jupyter-widgets/base",
     "model_name": "LayoutModel",
     "model_module_version": "1.2.0",
     "state": {
      "_model_module": "@jupyter-widgets/base",
      "_model_module_version": "1.2.0",
      "_model_name": "LayoutModel",
      "_view_count": null,
      "_view_module": "@jupyter-widgets/base",
      "_view_module_version": "1.2.0",
      "_view_name": "LayoutView",
      "align_content": null,
      "align_items": null,
      "align_self": null,
      "border": null,
      "bottom": null,
      "display": null,
      "flex": null,
      "flex_flow": null,
      "grid_area": null,
      "grid_auto_columns": null,
      "grid_auto_flow": null,
      "grid_auto_rows": null,
      "grid_column": null,
      "grid_gap": null,
      "grid_row": null,
      "grid_template_areas": null,
      "grid_template_columns": null,
      "grid_template_rows": null,
      "height": null,
      "justify_content": null,
      "justify_items": null,
      "left": null,
      "margin": null,
      "max_height": null,
      "max_width": null,
      "min_height": null,
      "min_width": null,
      "object_fit": null,
      "object_position": null,
      "order": null,
      "overflow": null,
      "overflow_x": null,
      "overflow_y": null,
      "padding": null,
      "right": null,
      "top": null,
      "visibility": null,
      "width": null
     }
    },
    "71ed3b3d7f064c22b26582f26d5c621f": {
     "model_module": "@jupyter-widgets/base",
     "model_name": "LayoutModel",
     "model_module_version": "1.2.0",
     "state": {
      "_model_module": "@jupyter-widgets/base",
      "_model_module_version": "1.2.0",
      "_model_name": "LayoutModel",
      "_view_count": null,
      "_view_module": "@jupyter-widgets/base",
      "_view_module_version": "1.2.0",
      "_view_name": "LayoutView",
      "align_content": null,
      "align_items": null,
      "align_self": null,
      "border": null,
      "bottom": null,
      "display": null,
      "flex": null,
      "flex_flow": null,
      "grid_area": null,
      "grid_auto_columns": null,
      "grid_auto_flow": null,
      "grid_auto_rows": null,
      "grid_column": null,
      "grid_gap": null,
      "grid_row": null,
      "grid_template_areas": null,
      "grid_template_columns": null,
      "grid_template_rows": null,
      "height": null,
      "justify_content": null,
      "justify_items": null,
      "left": null,
      "margin": null,
      "max_height": null,
      "max_width": null,
      "min_height": null,
      "min_width": null,
      "object_fit": null,
      "object_position": null,
      "order": null,
      "overflow": null,
      "overflow_x": null,
      "overflow_y": null,
      "padding": null,
      "right": null,
      "top": null,
      "visibility": null,
      "width": null
     }
    },
    "c460c611cbd5493e856e7baf5cb03c21": {
     "model_module": "@jupyter-widgets/controls",
     "model_name": "DescriptionStyleModel",
     "model_module_version": "1.5.0",
     "state": {
      "_model_module": "@jupyter-widgets/controls",
      "_model_module_version": "1.5.0",
      "_model_name": "DescriptionStyleModel",
      "_view_count": null,
      "_view_module": "@jupyter-widgets/base",
      "_view_module_version": "1.2.0",
      "_view_name": "StyleView",
      "description_width": ""
     }
    },
    "96a3d4340666445fb91d4816ed2ed99f": {
     "model_module": "@jupyter-widgets/base",
     "model_name": "LayoutModel",
     "model_module_version": "1.2.0",
     "state": {
      "_model_module": "@jupyter-widgets/base",
      "_model_module_version": "1.2.0",
      "_model_name": "LayoutModel",
      "_view_count": null,
      "_view_module": "@jupyter-widgets/base",
      "_view_module_version": "1.2.0",
      "_view_name": "LayoutView",
      "align_content": null,
      "align_items": null,
      "align_self": null,
      "border": null,
      "bottom": null,
      "display": null,
      "flex": null,
      "flex_flow": null,
      "grid_area": null,
      "grid_auto_columns": null,
      "grid_auto_flow": null,
      "grid_auto_rows": null,
      "grid_column": null,
      "grid_gap": null,
      "grid_row": null,
      "grid_template_areas": null,
      "grid_template_columns": null,
      "grid_template_rows": null,
      "height": null,
      "justify_content": null,
      "justify_items": null,
      "left": null,
      "margin": null,
      "max_height": null,
      "max_width": null,
      "min_height": null,
      "min_width": null,
      "object_fit": null,
      "object_position": null,
      "order": null,
      "overflow": null,
      "overflow_x": null,
      "overflow_y": null,
      "padding": null,
      "right": null,
      "top": null,
      "visibility": null,
      "width": null
     }
    },
    "1fe44a3fb6c04dfabcef81db19f84038": {
     "model_module": "@jupyter-widgets/controls",
     "model_name": "ProgressStyleModel",
     "model_module_version": "1.5.0",
     "state": {
      "_model_module": "@jupyter-widgets/controls",
      "_model_module_version": "1.5.0",
      "_model_name": "ProgressStyleModel",
      "_view_count": null,
      "_view_module": "@jupyter-widgets/base",
      "_view_module_version": "1.2.0",
      "_view_name": "StyleView",
      "bar_color": null,
      "description_width": ""
     }
    },
    "16f5a8c8d31f419fa3f2c8aaaddc01b1": {
     "model_module": "@jupyter-widgets/base",
     "model_name": "LayoutModel",
     "model_module_version": "1.2.0",
     "state": {
      "_model_module": "@jupyter-widgets/base",
      "_model_module_version": "1.2.0",
      "_model_name": "LayoutModel",
      "_view_count": null,
      "_view_module": "@jupyter-widgets/base",
      "_view_module_version": "1.2.0",
      "_view_name": "LayoutView",
      "align_content": null,
      "align_items": null,
      "align_self": null,
      "border": null,
      "bottom": null,
      "display": null,
      "flex": null,
      "flex_flow": null,
      "grid_area": null,
      "grid_auto_columns": null,
      "grid_auto_flow": null,
      "grid_auto_rows": null,
      "grid_column": null,
      "grid_gap": null,
      "grid_row": null,
      "grid_template_areas": null,
      "grid_template_columns": null,
      "grid_template_rows": null,
      "height": null,
      "justify_content": null,
      "justify_items": null,
      "left": null,
      "margin": null,
      "max_height": null,
      "max_width": null,
      "min_height": null,
      "min_width": null,
      "object_fit": null,
      "object_position": null,
      "order": null,
      "overflow": null,
      "overflow_x": null,
      "overflow_y": null,
      "padding": null,
      "right": null,
      "top": null,
      "visibility": null,
      "width": null
     }
    },
    "e159224d451a422eabb3a3c36ddd1cff": {
     "model_module": "@jupyter-widgets/controls",
     "model_name": "DescriptionStyleModel",
     "model_module_version": "1.5.0",
     "state": {
      "_model_module": "@jupyter-widgets/controls",
      "_model_module_version": "1.5.0",
      "_model_name": "DescriptionStyleModel",
      "_view_count": null,
      "_view_module": "@jupyter-widgets/base",
      "_view_module_version": "1.2.0",
      "_view_name": "StyleView",
      "description_width": ""
     }
    },
    "3437986a80ff43dbb1ec509a9c9bed68": {
     "model_module": "@jupyter-widgets/controls",
     "model_name": "HBoxModel",
     "model_module_version": "1.5.0",
     "state": {
      "_dom_classes": [],
      "_model_module": "@jupyter-widgets/controls",
      "_model_module_version": "1.5.0",
      "_model_name": "HBoxModel",
      "_view_count": null,
      "_view_module": "@jupyter-widgets/controls",
      "_view_module_version": "1.5.0",
      "_view_name": "HBoxView",
      "box_style": "",
      "children": [
       "IPY_MODEL_8a39942db6bf40a0b4e9a5c069d36ec7",
       "IPY_MODEL_d86cec13491347b3ba48ed670e9601d0",
       "IPY_MODEL_acbdb22bc34946219ffaa0e5f062ed9b"
      ],
      "layout": "IPY_MODEL_8881252281274b95acfb83d29b5be9fa"
     }
    },
    "8a39942db6bf40a0b4e9a5c069d36ec7": {
     "model_module": "@jupyter-widgets/controls",
     "model_name": "HTMLModel",
     "model_module_version": "1.5.0",
     "state": {
      "_dom_classes": [],
      "_model_module": "@jupyter-widgets/controls",
      "_model_module_version": "1.5.0",
      "_model_name": "HTMLModel",
      "_view_count": null,
      "_view_module": "@jupyter-widgets/controls",
      "_view_module_version": "1.5.0",
      "_view_name": "HTMLView",
      "description": "",
      "description_tooltip": null,
      "layout": "IPY_MODEL_dcf22fe23df8410b9a5ecff7120c8575",
      "placeholder": "​",
      "style": "IPY_MODEL_5c9fd72224b54f5f97a7119aa91cb795",
      "value": "Batches: 100%"
     }
    },
    "d86cec13491347b3ba48ed670e9601d0": {
     "model_module": "@jupyter-widgets/controls",
     "model_name": "FloatProgressModel",
     "model_module_version": "1.5.0",
     "state": {
      "_dom_classes": [],
      "_model_module": "@jupyter-widgets/controls",
      "_model_module_version": "1.5.0",
      "_model_name": "FloatProgressModel",
      "_view_count": null,
      "_view_module": "@jupyter-widgets/controls",
      "_view_module_version": "1.5.0",
      "_view_name": "ProgressView",
      "bar_style": "success",
      "description": "",
      "description_tooltip": null,
      "layout": "IPY_MODEL_2c8b936204da48229d2361bd41f0a1b8",
      "max": 1,
      "min": 0,
      "orientation": "horizontal",
      "style": "IPY_MODEL_b2aecd7280fa421aa69341106396c02b",
      "value": 1
     }
    },
    "acbdb22bc34946219ffaa0e5f062ed9b": {
     "model_module": "@jupyter-widgets/controls",
     "model_name": "HTMLModel",
     "model_module_version": "1.5.0",
     "state": {
      "_dom_classes": [],
      "_model_module": "@jupyter-widgets/controls",
      "_model_module_version": "1.5.0",
      "_model_name": "HTMLModel",
      "_view_count": null,
      "_view_module": "@jupyter-widgets/controls",
      "_view_module_version": "1.5.0",
      "_view_name": "HTMLView",
      "description": "",
      "description_tooltip": null,
      "layout": "IPY_MODEL_52ce11d495c54504a8ffa11431ea1e87",
      "placeholder": "​",
      "style": "IPY_MODEL_e6414f90ee7c4684bda1a626cb6c10fb",
      "value": " 1/1 [00:00&lt;00:00,  7.59it/s]"
     }
    },
    "8881252281274b95acfb83d29b5be9fa": {
     "model_module": "@jupyter-widgets/base",
     "model_name": "LayoutModel",
     "model_module_version": "1.2.0",
     "state": {
      "_model_module": "@jupyter-widgets/base",
      "_model_module_version": "1.2.0",
      "_model_name": "LayoutModel",
      "_view_count": null,
      "_view_module": "@jupyter-widgets/base",
      "_view_module_version": "1.2.0",
      "_view_name": "LayoutView",
      "align_content": null,
      "align_items": null,
      "align_self": null,
      "border": null,
      "bottom": null,
      "display": null,
      "flex": null,
      "flex_flow": null,
      "grid_area": null,
      "grid_auto_columns": null,
      "grid_auto_flow": null,
      "grid_auto_rows": null,
      "grid_column": null,
      "grid_gap": null,
      "grid_row": null,
      "grid_template_areas": null,
      "grid_template_columns": null,
      "grid_template_rows": null,
      "height": null,
      "justify_content": null,
      "justify_items": null,
      "left": null,
      "margin": null,
      "max_height": null,
      "max_width": null,
      "min_height": null,
      "min_width": null,
      "object_fit": null,
      "object_position": null,
      "order": null,
      "overflow": null,
      "overflow_x": null,
      "overflow_y": null,
      "padding": null,
      "right": null,
      "top": null,
      "visibility": null,
      "width": null
     }
    },
    "dcf22fe23df8410b9a5ecff7120c8575": {
     "model_module": "@jupyter-widgets/base",
     "model_name": "LayoutModel",
     "model_module_version": "1.2.0",
     "state": {
      "_model_module": "@jupyter-widgets/base",
      "_model_module_version": "1.2.0",
      "_model_name": "LayoutModel",
      "_view_count": null,
      "_view_module": "@jupyter-widgets/base",
      "_view_module_version": "1.2.0",
      "_view_name": "LayoutView",
      "align_content": null,
      "align_items": null,
      "align_self": null,
      "border": null,
      "bottom": null,
      "display": null,
      "flex": null,
      "flex_flow": null,
      "grid_area": null,
      "grid_auto_columns": null,
      "grid_auto_flow": null,
      "grid_auto_rows": null,
      "grid_column": null,
      "grid_gap": null,
      "grid_row": null,
      "grid_template_areas": null,
      "grid_template_columns": null,
      "grid_template_rows": null,
      "height": null,
      "justify_content": null,
      "justify_items": null,
      "left": null,
      "margin": null,
      "max_height": null,
      "max_width": null,
      "min_height": null,
      "min_width": null,
      "object_fit": null,
      "object_position": null,
      "order": null,
      "overflow": null,
      "overflow_x": null,
      "overflow_y": null,
      "padding": null,
      "right": null,
      "top": null,
      "visibility": null,
      "width": null
     }
    },
    "5c9fd72224b54f5f97a7119aa91cb795": {
     "model_module": "@jupyter-widgets/controls",
     "model_name": "DescriptionStyleModel",
     "model_module_version": "1.5.0",
     "state": {
      "_model_module": "@jupyter-widgets/controls",
      "_model_module_version": "1.5.0",
      "_model_name": "DescriptionStyleModel",
      "_view_count": null,
      "_view_module": "@jupyter-widgets/base",
      "_view_module_version": "1.2.0",
      "_view_name": "StyleView",
      "description_width": ""
     }
    },
    "2c8b936204da48229d2361bd41f0a1b8": {
     "model_module": "@jupyter-widgets/base",
     "model_name": "LayoutModel",
     "model_module_version": "1.2.0",
     "state": {
      "_model_module": "@jupyter-widgets/base",
      "_model_module_version": "1.2.0",
      "_model_name": "LayoutModel",
      "_view_count": null,
      "_view_module": "@jupyter-widgets/base",
      "_view_module_version": "1.2.0",
      "_view_name": "LayoutView",
      "align_content": null,
      "align_items": null,
      "align_self": null,
      "border": null,
      "bottom": null,
      "display": null,
      "flex": null,
      "flex_flow": null,
      "grid_area": null,
      "grid_auto_columns": null,
      "grid_auto_flow": null,
      "grid_auto_rows": null,
      "grid_column": null,
      "grid_gap": null,
      "grid_row": null,
      "grid_template_areas": null,
      "grid_template_columns": null,
      "grid_template_rows": null,
      "height": null,
      "justify_content": null,
      "justify_items": null,
      "left": null,
      "margin": null,
      "max_height": null,
      "max_width": null,
      "min_height": null,
      "min_width": null,
      "object_fit": null,
      "object_position": null,
      "order": null,
      "overflow": null,
      "overflow_x": null,
      "overflow_y": null,
      "padding": null,
      "right": null,
      "top": null,
      "visibility": null,
      "width": null
     }
    },
    "b2aecd7280fa421aa69341106396c02b": {
     "model_module": "@jupyter-widgets/controls",
     "model_name": "ProgressStyleModel",
     "model_module_version": "1.5.0",
     "state": {
      "_model_module": "@jupyter-widgets/controls",
      "_model_module_version": "1.5.0",
      "_model_name": "ProgressStyleModel",
      "_view_count": null,
      "_view_module": "@jupyter-widgets/base",
      "_view_module_version": "1.2.0",
      "_view_name": "StyleView",
      "bar_color": null,
      "description_width": ""
     }
    },
    "52ce11d495c54504a8ffa11431ea1e87": {
     "model_module": "@jupyter-widgets/base",
     "model_name": "LayoutModel",
     "model_module_version": "1.2.0",
     "state": {
      "_model_module": "@jupyter-widgets/base",
      "_model_module_version": "1.2.0",
      "_model_name": "LayoutModel",
      "_view_count": null,
      "_view_module": "@jupyter-widgets/base",
      "_view_module_version": "1.2.0",
      "_view_name": "LayoutView",
      "align_content": null,
      "align_items": null,
      "align_self": null,
      "border": null,
      "bottom": null,
      "display": null,
      "flex": null,
      "flex_flow": null,
      "grid_area": null,
      "grid_auto_columns": null,
      "grid_auto_flow": null,
      "grid_auto_rows": null,
      "grid_column": null,
      "grid_gap": null,
      "grid_row": null,
      "grid_template_areas": null,
      "grid_template_columns": null,
      "grid_template_rows": null,
      "height": null,
      "justify_content": null,
      "justify_items": null,
      "left": null,
      "margin": null,
      "max_height": null,
      "max_width": null,
      "min_height": null,
      "min_width": null,
      "object_fit": null,
      "object_position": null,
      "order": null,
      "overflow": null,
      "overflow_x": null,
      "overflow_y": null,
      "padding": null,
      "right": null,
      "top": null,
      "visibility": null,
      "width": null
     }
    },
    "e6414f90ee7c4684bda1a626cb6c10fb": {
     "model_module": "@jupyter-widgets/controls",
     "model_name": "DescriptionStyleModel",
     "model_module_version": "1.5.0",
     "state": {
      "_model_module": "@jupyter-widgets/controls",
      "_model_module_version": "1.5.0",
      "_model_name": "DescriptionStyleModel",
      "_view_count": null,
      "_view_module": "@jupyter-widgets/base",
      "_view_module_version": "1.2.0",
      "_view_name": "StyleView",
      "description_width": ""
     }
    }
   }
  }
 },
 "cells": [
  {
   "cell_type": "markdown",
   "source": [
    "# RAG Haystack Demo\n",
    "**Demo for Iteration 2 of the prototype.**\n",
    "\n",
    "Installs:\\\n",
    "!pip install haystack-ai\\\n",
    "!pip install python-pptx\\\n",
    "!pip install python-docx\\\n",
    "!pip install pypdf2\\\n",
    "!pip install trafilatura\\\n",
    "!pip install unstructured-client\\\n",
    "!pip install unstructured-fileconverter-haystack\\\n",
    "!pip install unstructured\\\n",
    "!pip install sentence-transformers"
   ],
   "metadata": {
    "id": "H-nQX9HqiJMz"
   }
  },
  {
   "cell_type": "code",
   "source": [
    "from haystack import Pipeline\n",
    "from haystack import Document\n",
    "from haystack.document_stores.in_memory import InMemoryDocumentStore\n",
    "from haystack_integrations.components.converters.unstructured import UnstructuredFileConverter\n",
    "from haystack.components.preprocessors import DocumentSplitter\n",
    "from haystack.components.embedders import SentenceTransformersDocumentEmbedder\n",
    "from haystack.components.writers import DocumentWriter\n",
    "from haystack.components.retrievers.in_memory import InMemoryBM25Retriever\n",
    "from haystack.utils import Secret\n",
    "from haystack.components.generators import OpenAIGenerator\n",
    "from haystack.components.retrievers.in_memory import InMemoryBM25Retriever, InMemoryEmbeddingRetriever\n",
    "from haystack.components.embedders import SentenceTransformersTextEmbedder\n",
    "from haystack.components.joiners.document_joiner import DocumentJoiner\n",
    "from haystack.components.builders import PromptBuilder"
   ],
   "metadata": {
    "id": "FmFAvzFZPgLo"
   },
   "execution_count": null,
   "outputs": []
  },
  {
   "cell_type": "code",
   "source": [
    "import os\n",
    "\n",
    "# Groq API Key\n",
    "GROQ_OPENAI_API_KEY = userdata.get('GROQ_OPENAI_API_KEY')\n",
    "os.environ['GROQ_OPENAI_API_KEY'] = GROQ_OPENAI_API_KEY\n",
    "\n",
    "# Unstructured API Key\n",
    "UNSTRUCTURED_API_KEY = userdata.get('UNSTRUCTURED_API_KEY')\n",
    "os.environ['UNSTRUCTURED_API_KEY'] = UNSTRUCTURED_API_KEY"
   ],
   "metadata": {
    "id": "xDl4A78Llygu"
   },
   "execution_count": null,
   "outputs": []
  },
  {
   "cell_type": "markdown",
   "source": [
    "# **Indexing**"
   ],
   "metadata": {
    "id": "S1cB1YlsNk9T"
   }
  },
  {
   "cell_type": "code",
   "source": [
    "document_store = InMemoryDocumentStore(embedding_similarity_function=\"cosine\")"
   ],
   "metadata": {
    "id": "tZmJy8_-k2nN"
   },
   "execution_count": null,
   "outputs": []
  },
  {
   "cell_type": "markdown",
   "source": [
    "### Converter"
   ],
   "metadata": {
    "id": "WuB2r_NRQhpL"
   }
  },
  {
   "cell_type": "code",
   "source": [
    "converter = UnstructuredFileConverter()\n",
    "result = converter.run(paths=[\"demo_guide.pdf\"])\n",
    "print(result['documents'][0].content)"
   ],
   "metadata": {
    "colab": {
     "base_uri": "https://localhost:8080/"
    },
    "id": "YuEeeWrwQoIl",
    "outputId": "8029bfda-0b45-4acd-ce09-c0f9138181c0"
   },
   "execution_count": null,
   "outputs": []
  },
  {
   "cell_type": "markdown",
   "source": [
    "### Cleaner\n",
    "Not used in this demo."
   ],
   "metadata": {
    "id": "U6-psC9hWQKU"
   }
  },
  {
   "cell_type": "code",
   "source": [
    "# from haystack.components.preprocessors import DocumentCleaner\n",
    "\n",
    "# cleaner = DocumentCleaner(\n",
    "#   ascii_only=True,\n",
    "# \tremove_empty_lines=True,\n",
    "# \tremove_extra_whitespaces=True,\n",
    "# \tremove_repeated_substrings=False)\n",
    "\n",
    "# cleaned_result = cleaner.run(documents=result['documents'])\n",
    "# print(cleaned_result['documents'][0].content)"
   ],
   "metadata": {
    "id": "XyAPynZcWGIf"
   },
   "execution_count": null,
   "outputs": []
  },
  {
   "cell_type": "markdown",
   "source": [
    "### Splitter/Chunker"
   ],
   "metadata": {
    "id": "zDHTwaP5WRQV"
   }
  },
  {
   "cell_type": "code",
   "source": [
    "splitter = DocumentSplitter(split_by=\"passage\", split_length=1, split_overlap=0)\n",
    "split_result = splitter.run(documents=result['documents'])\n",
    "\n",
    "for document in split_result[\"documents\"]:\n",
    "    print(f\"{document.content}\\n\")"
   ],
   "metadata": {
    "colab": {
     "base_uri": "https://localhost:8080/"
    },
    "id": "lOlGbHcpQEHN",
    "outputId": "b49e8636-ab48-4549-c55a-d3af2d201a41"
   },
   "execution_count": null,
   "outputs": []
  },
  {
   "cell_type": "markdown",
   "source": [
    "# Embedder"
   ],
   "metadata": {
    "id": "L6ptUUVEXiRt"
   }
  },
  {
   "cell_type": "code",
   "source": [
    "embedder = SentenceTransformersDocumentEmbedder()\n",
    "embedder.warm_up()\n",
    "\n",
    "result = embedder.run(split_result['documents'])\n",
    "print(result['documents'][0].embedding)\n",
    "\n",
    "# [-0.07804739475250244, 0.1498992145061493, ...]"
   ],
   "metadata": {
    "colab": {
     "base_uri": "https://localhost:8080/",
     "height": 87,
     "referenced_widgets": [
      "6d62f72c156049bdaf139183ad02e94f",
      "e4a36d3d7a394df1a55ee979b4a839f7",
      "eb4da07ae18541188f02c61f6bef375d",
      "290c65243b5c4fc88fbdb5ec4620ce1d",
      "e869266ec476456eb9f8c0d5d29ba610",
      "bf0f7b5027154074a7dc1c3a233c4e15",
      "1f41c6dcf4de4eee912220768928a6fb",
      "c61d0c16635a466c8d2c45daeedc4172",
      "cb996d368f8d4b3687c520f80bbe0c14",
      "040a9ecb83a2420dbf89a05a055e4627",
      "0f6f458f7f5047f7abcff13f20a46c76"
     ]
    },
    "id": "4dHvSqwxNkXk",
    "outputId": "91751f33-281e-40eb-d3d1-3a54da108221"
   },
   "execution_count": null,
   "outputs": []
  },
  {
   "cell_type": "markdown",
   "source": [
    "# Writer (Load Embeddings)"
   ],
   "metadata": {
    "id": "UdM8Vl3kX25M"
   }
  },
  {
   "cell_type": "code",
   "source": [
    "document_writer = DocumentWriter(document_store = document_store)\n",
    "document_writer.run(documents=result['documents'])"
   ],
   "metadata": {
    "colab": {
     "base_uri": "https://localhost:8080/"
    },
    "id": "yJ_3epdGX13_",
    "outputId": "535663a9-e02c-4262-8f37-4da5b7fedaf9"
   },
   "execution_count": null,
   "outputs": []
  },
  {
   "cell_type": "markdown",
   "source": [
    "# **Querying**"
   ],
   "metadata": {
    "id": "R9Fghs2OYr74"
   }
  },
  {
   "cell_type": "code",
   "source": [
    "# Query and Query embeddings\n",
    "text_embedder = SentenceTransformersTextEmbedder()\n",
    "text_embedder.warm_up()\n",
    "\n",
    "query=\"How do I change my password\"\n",
    "query_embedding=text_embedder.run(query)\n",
    "\n",
    "print(query)\n",
    "print(query_embedding['embedding'])"
   ],
   "metadata": {
    "colab": {
     "base_uri": "https://localhost:8080/",
     "height": 105,
     "referenced_widgets": [
      "44d30c6a5d3343f8b15a5f7183dbd51a",
      "3603e2c3916142869a9143e6690e2be4",
      "60981522e0664d72a553c6394b8cf538",
      "c205015129634b7ab7e0036ea5ed9311",
      "19831321ae914d00b5dc4212597f1aa3",
      "b15847b4254546cd863b718371c2f92e",
      "3556f3310bd84ebf890afd71d51332f5",
      "1c0b70d481994764a2556a0ac0c3312f",
      "46dffa5905e146e4aaa0ed4e7d176baf",
      "28249b747c444a8e8ef5f9cb6cf8a1e6",
      "50992d7e53cf48f0811525087c750cbe"
     ]
    },
    "id": "2B8NZxdYddP0",
    "outputId": "1f4b8b82-cf3a-4850-8226-7fe160a4af2f"
   },
   "execution_count": null,
   "outputs": []
  },
  {
   "cell_type": "markdown",
   "source": [
    "### Retriever"
   ],
   "metadata": {
    "id": "9AJuFxQ4ZfsY"
   }
  },
  {
   "cell_type": "code",
   "source": [
    "# Vector Search\n",
    "embedding_retriever = InMemoryEmbeddingRetriever(document_store)\n",
    "\n",
    "# Keyword Search\n",
    "bm25_retriever = InMemoryBM25Retriever(document_store)"
   ],
   "metadata": {
    "id": "An-iBDqCZQHC"
   },
   "execution_count": null,
   "outputs": []
  },
  {
   "cell_type": "code",
   "source": [
    "retrieved_result=embedding_retriever.run(query_embedding['embedding'])\n",
    "print(retrieved_result['documents'][0].content)\n",
    "\n",
    "retrieved_result=bm25_retriever.run(query)\n",
    "print(retrieved_result['documents'][0].content)"
   ],
   "metadata": {
    "colab": {
     "base_uri": "https://localhost:8080/"
    },
    "id": "Xuacd3Qmfbzv",
    "outputId": "0d18aeeb-db7a-4251-c121-c29589c8cf05"
   },
   "execution_count": null,
   "outputs": []
  },
  {
   "cell_type": "markdown",
   "source": [
    "### Document Joiner (For Hybrid Retrieval)\n",
    "Not used in this demo."
   ],
   "metadata": {
    "id": "HeEC9l3gb0dg"
   }
  },
  {
   "cell_type": "code",
   "source": [
    "# from haystack.components.joiners import DocumentJoiner\n",
    "\n",
    "# document_joiner = DocumentJoiner()"
   ],
   "metadata": {
    "id": "8RZGfa0Jby9g"
   },
   "execution_count": null,
   "outputs": []
  },
  {
   "cell_type": "markdown",
   "source": [
    "### Prompt Builder"
   ],
   "metadata": {
    "id": "xaJWEvhNjZK6"
   }
  },
  {
   "cell_type": "code",
   "source": [
    "prompt_template = \"Answer the query '{{ query }}' using the following contextContext: {{ context }}; Answer:\"\n",
    "builder = PromptBuilder(template=prompt_template)\n",
    "input=builder.run(query=query, context=retrieved_result['documents'][0].content)\n",
    "print(input)"
   ],
   "metadata": {
    "colab": {
     "base_uri": "https://localhost:8080/"
    },
    "id": "pzy1rAR3jYVv",
    "outputId": "8b8e0c19-64f0-413c-c171-3506f85517f4"
   },
   "execution_count": null,
   "outputs": []
  },
  {
   "cell_type": "code",
   "source": [
    "llm = OpenAIGenerator(\n",
    "        api_key=Secret.from_env_var(\"GROQ_OPENAI_API_KEY\"),\n",
    "        api_base_url=\"https://api.groq.com/openai/v1\",\n",
    "        model=\"llama3-8b-8192\",\n",
    "        generation_kwargs={\"temperature\": 0}\n",
    "    )"
   ],
   "metadata": {
    "id": "k_a0rahUdKf0"
   },
   "execution_count": null,
   "outputs": []
  },
  {
   "cell_type": "code",
   "source": [
    "response=llm.run(input['prompt'])\n",
    "print(response['replies'][0])"
   ],
   "metadata": {
    "colab": {
     "base_uri": "https://localhost:8080/"
    },
    "id": "eWeYsfSkk8mY",
    "outputId": "acf05563-00d9-4e1c-d37d-0c873c7d8df1"
   },
   "execution_count": null,
   "outputs": []
  },
  {
   "cell_type": "markdown",
   "source": [
    "# RAG with 2 documents\n",
    "\n",
    "\n",
    "1.   Outdated Guide\n",
    "2.   Reference Material\n",
    "\n"
   ],
   "metadata": {
    "id": "Du099Ihc4fzJ"
   }
  },
  {
   "cell_type": "code",
   "source": [
    "document_store = InMemoryDocumentStore(embedding_similarity_function=\"cosine\")\n",
    "indexing_pipeline=Pipeline()\n",
    "indexing_pipeline.add_component(\"converter\", UnstructuredFileConverter())\n",
    "indexing_pipeline.add_component(\"splitter\", DocumentSplitter(split_by=\"passage\", split_length=1, split_overlap=0))\n",
    "indexing_pipeline.add_component(\"embedder\", SentenceTransformersDocumentEmbedder())\n",
    "indexing_pipeline.add_component(\"writer\", DocumentWriter(document_store=document_store))\n",
    "indexing_pipeline.connect(\"converter\", \"splitter\")\n",
    "indexing_pipeline.connect(\"splitter\", \"embedder\")\n",
    "indexing_pipeline.connect(\"embedder\", \"writer\")\n",
    "indexing_pipeline.run({\"converter\": {\"paths\": [\"demo_guide.pdf\", \"demo_reference.pdf\"]}})\n",
    "\n",
    "query_pipeline=Pipeline()\n",
    "query_pipeline.add_component(\"text_embedder\", SentenceTransformersTextEmbedder())\n",
    "query_pipeline.add_component(\"embedding_retriever\", InMemoryEmbeddingRetriever(document_store))\n",
    "query_pipeline.add_component(\"bm25_retriever\", InMemoryBM25Retriever(document_store))\n",
    "query_pipeline.add_component(\"document_joiner\", DocumentJoiner(join_mode=\"merge\"))\n",
    "query_pipeline.connect(\"text_embedder\", \"embedding_retriever\")\n",
    "query_pipeline.connect(\"bm25_retriever\", \"document_joiner\")\n",
    "query_pipeline.connect(\"embedding_retriever\", \"document_joiner\")\n",
    "\n",
    "query = \"How do I access the project management system\"\n",
    "\n",
    "result = query_pipeline.run(\n",
    "    {\"text_embedder\": {\"text\": query}, \"bm25_retriever\": {\"query\": query}}\n",
    ")"
   ],
   "metadata": {
    "colab": {
     "base_uri": "https://localhost:8080/",
     "height": 99,
     "referenced_widgets": [
      "56a456d8467247e68d21293cdf2e326e",
      "7a9ff9ad02b141df9ae6d33aaafcbb26",
      "57716bf963f340aa99c7db6a6fbd778c",
      "5a89ba46900144889e91afc1054cc743",
      "98c1edf5c5324452911eb5a90fbe230f",
      "71ed3b3d7f064c22b26582f26d5c621f",
      "c460c611cbd5493e856e7baf5cb03c21",
      "96a3d4340666445fb91d4816ed2ed99f",
      "1fe44a3fb6c04dfabcef81db19f84038",
      "16f5a8c8d31f419fa3f2c8aaaddc01b1",
      "e159224d451a422eabb3a3c36ddd1cff",
      "3437986a80ff43dbb1ec509a9c9bed68",
      "8a39942db6bf40a0b4e9a5c069d36ec7",
      "d86cec13491347b3ba48ed670e9601d0",
      "acbdb22bc34946219ffaa0e5f062ed9b",
      "8881252281274b95acfb83d29b5be9fa",
      "dcf22fe23df8410b9a5ecff7120c8575",
      "5c9fd72224b54f5f97a7119aa91cb795",
      "2c8b936204da48229d2361bd41f0a1b8",
      "b2aecd7280fa421aa69341106396c02b",
      "52ce11d495c54504a8ffa11431ea1e87",
      "e6414f90ee7c4684bda1a626cb6c10fb"
     ]
    },
    "id": "qFWunLxe40et",
    "outputId": "e407a01f-2302-49f0-dfa2-3652f573dd97"
   },
   "execution_count": null,
   "outputs": []
  },
  {
   "cell_type": "markdown",
   "source": [
    "The following context is retrieved from the query: \"How do I access the project management system\""
   ],
   "metadata": {
    "id": "lrNNy3oV0rFm"
   }
  },
  {
   "cell_type": "code",
   "source": [
    "print(result['document_joiner']['documents'][0].content)\n",
    "print(result['document_joiner']['documents'][1].content)\n",
    "print(result['document_joiner']['documents'][2].content)"
   ],
   "metadata": {
    "colab": {
     "base_uri": "https://localhost:8080/"
    },
    "id": "JDtmgX1Wy7N_",
    "outputId": "c61af965-1973-4ec3-d7e5-8fb58d755e19"
   },
   "execution_count": null,
   "outputs": []
  }
 ]
}
