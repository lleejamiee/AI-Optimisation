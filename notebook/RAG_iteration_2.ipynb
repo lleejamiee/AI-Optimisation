{
  "nbformat": 4,
  "nbformat_minor": 0,
  "metadata": {
    "colab": {
      "provenance": []
    },
    "kernelspec": {
      "name": "python3",
      "display_name": "Python 3"
    },
    "language_info": {
      "name": "python"
    },
    "widgets": {
      "application/vnd.jupyter.widget-state+json": {
        "6d62f72c156049bdaf139183ad02e94f": {
          "model_module": "@jupyter-widgets/controls",
          "model_name": "HBoxModel",
          "model_module_version": "1.5.0",
          "state": {
            "_dom_classes": [],
            "_model_module": "@jupyter-widgets/controls",
            "_model_module_version": "1.5.0",
            "_model_name": "HBoxModel",
            "_view_count": null,
            "_view_module": "@jupyter-widgets/controls",
            "_view_module_version": "1.5.0",
            "_view_name": "HBoxView",
            "box_style": "",
            "children": [
              "IPY_MODEL_e4a36d3d7a394df1a55ee979b4a839f7",
              "IPY_MODEL_eb4da07ae18541188f02c61f6bef375d",
              "IPY_MODEL_290c65243b5c4fc88fbdb5ec4620ce1d"
            ],
            "layout": "IPY_MODEL_e869266ec476456eb9f8c0d5d29ba610"
          }
        },
        "e4a36d3d7a394df1a55ee979b4a839f7": {
          "model_module": "@jupyter-widgets/controls",
          "model_name": "HTMLModel",
          "model_module_version": "1.5.0",
          "state": {
            "_dom_classes": [],
            "_model_module": "@jupyter-widgets/controls",
            "_model_module_version": "1.5.0",
            "_model_name": "HTMLModel",
            "_view_count": null,
            "_view_module": "@jupyter-widgets/controls",
            "_view_module_version": "1.5.0",
            "_view_name": "HTMLView",
            "description": "",
            "description_tooltip": null,
            "layout": "IPY_MODEL_bf0f7b5027154074a7dc1c3a233c4e15",
            "placeholder": "​",
            "style": "IPY_MODEL_1f41c6dcf4de4eee912220768928a6fb",
            "value": "Batches: 100%"
          }
        },
        "eb4da07ae18541188f02c61f6bef375d": {
          "model_module": "@jupyter-widgets/controls",
          "model_name": "FloatProgressModel",
          "model_module_version": "1.5.0",
          "state": {
            "_dom_classes": [],
            "_model_module": "@jupyter-widgets/controls",
            "_model_module_version": "1.5.0",
            "_model_name": "FloatProgressModel",
            "_view_count": null,
            "_view_module": "@jupyter-widgets/controls",
            "_view_module_version": "1.5.0",
            "_view_name": "ProgressView",
            "bar_style": "success",
            "description": "",
            "description_tooltip": null,
            "layout": "IPY_MODEL_c61d0c16635a466c8d2c45daeedc4172",
            "max": 1,
            "min": 0,
            "orientation": "horizontal",
            "style": "IPY_MODEL_cb996d368f8d4b3687c520f80bbe0c14",
            "value": 1
          }
        },
        "290c65243b5c4fc88fbdb5ec4620ce1d": {
          "model_module": "@jupyter-widgets/controls",
          "model_name": "HTMLModel",
          "model_module_version": "1.5.0",
          "state": {
            "_dom_classes": [],
            "_model_module": "@jupyter-widgets/controls",
            "_model_module_version": "1.5.0",
            "_model_name": "HTMLModel",
            "_view_count": null,
            "_view_module": "@jupyter-widgets/controls",
            "_view_module_version": "1.5.0",
            "_view_name": "HTMLView",
            "description": "",
            "description_tooltip": null,
            "layout": "IPY_MODEL_040a9ecb83a2420dbf89a05a055e4627",
            "placeholder": "​",
            "style": "IPY_MODEL_0f6f458f7f5047f7abcff13f20a46c76",
            "value": " 1/1 [00:01&lt;00:00,  1.26s/it]"
          }
        },
        "e869266ec476456eb9f8c0d5d29ba610": {
          "model_module": "@jupyter-widgets/base",
          "model_name": "LayoutModel",
          "model_module_version": "1.2.0",
          "state": {
            "_model_module": "@jupyter-widgets/base",
            "_model_module_version": "1.2.0",
            "_model_name": "LayoutModel",
            "_view_count": null,
            "_view_module": "@jupyter-widgets/base",
            "_view_module_version": "1.2.0",
            "_view_name": "LayoutView",
            "align_content": null,
            "align_items": null,
            "align_self": null,
            "border": null,
            "bottom": null,
            "display": null,
            "flex": null,
            "flex_flow": null,
            "grid_area": null,
            "grid_auto_columns": null,
            "grid_auto_flow": null,
            "grid_auto_rows": null,
            "grid_column": null,
            "grid_gap": null,
            "grid_row": null,
            "grid_template_areas": null,
            "grid_template_columns": null,
            "grid_template_rows": null,
            "height": null,
            "justify_content": null,
            "justify_items": null,
            "left": null,
            "margin": null,
            "max_height": null,
            "max_width": null,
            "min_height": null,
            "min_width": null,
            "object_fit": null,
            "object_position": null,
            "order": null,
            "overflow": null,
            "overflow_x": null,
            "overflow_y": null,
            "padding": null,
            "right": null,
            "top": null,
            "visibility": null,
            "width": null
          }
        },
        "bf0f7b5027154074a7dc1c3a233c4e15": {
          "model_module": "@jupyter-widgets/base",
          "model_name": "LayoutModel",
          "model_module_version": "1.2.0",
          "state": {
            "_model_module": "@jupyter-widgets/base",
            "_model_module_version": "1.2.0",
            "_model_name": "LayoutModel",
            "_view_count": null,
            "_view_module": "@jupyter-widgets/base",
            "_view_module_version": "1.2.0",
            "_view_name": "LayoutView",
            "align_content": null,
            "align_items": null,
            "align_self": null,
            "border": null,
            "bottom": null,
            "display": null,
            "flex": null,
            "flex_flow": null,
            "grid_area": null,
            "grid_auto_columns": null,
            "grid_auto_flow": null,
            "grid_auto_rows": null,
            "grid_column": null,
            "grid_gap": null,
            "grid_row": null,
            "grid_template_areas": null,
            "grid_template_columns": null,
            "grid_template_rows": null,
            "height": null,
            "justify_content": null,
            "justify_items": null,
            "left": null,
            "margin": null,
            "max_height": null,
            "max_width": null,
            "min_height": null,
            "min_width": null,
            "object_fit": null,
            "object_position": null,
            "order": null,
            "overflow": null,
            "overflow_x": null,
            "overflow_y": null,
            "padding": null,
            "right": null,
            "top": null,
            "visibility": null,
            "width": null
          }
        },
        "1f41c6dcf4de4eee912220768928a6fb": {
          "model_module": "@jupyter-widgets/controls",
          "model_name": "DescriptionStyleModel",
          "model_module_version": "1.5.0",
          "state": {
            "_model_module": "@jupyter-widgets/controls",
            "_model_module_version": "1.5.0",
            "_model_name": "DescriptionStyleModel",
            "_view_count": null,
            "_view_module": "@jupyter-widgets/base",
            "_view_module_version": "1.2.0",
            "_view_name": "StyleView",
            "description_width": ""
          }
        },
        "c61d0c16635a466c8d2c45daeedc4172": {
          "model_module": "@jupyter-widgets/base",
          "model_name": "LayoutModel",
          "model_module_version": "1.2.0",
          "state": {
            "_model_module": "@jupyter-widgets/base",
            "_model_module_version": "1.2.0",
            "_model_name": "LayoutModel",
            "_view_count": null,
            "_view_module": "@jupyter-widgets/base",
            "_view_module_version": "1.2.0",
            "_view_name": "LayoutView",
            "align_content": null,
            "align_items": null,
            "align_self": null,
            "border": null,
            "bottom": null,
            "display": null,
            "flex": null,
            "flex_flow": null,
            "grid_area": null,
            "grid_auto_columns": null,
            "grid_auto_flow": null,
            "grid_auto_rows": null,
            "grid_column": null,
            "grid_gap": null,
            "grid_row": null,
            "grid_template_areas": null,
            "grid_template_columns": null,
            "grid_template_rows": null,
            "height": null,
            "justify_content": null,
            "justify_items": null,
            "left": null,
            "margin": null,
            "max_height": null,
            "max_width": null,
            "min_height": null,
            "min_width": null,
            "object_fit": null,
            "object_position": null,
            "order": null,
            "overflow": null,
            "overflow_x": null,
            "overflow_y": null,
            "padding": null,
            "right": null,
            "top": null,
            "visibility": null,
            "width": null
          }
        },
        "cb996d368f8d4b3687c520f80bbe0c14": {
          "model_module": "@jupyter-widgets/controls",
          "model_name": "ProgressStyleModel",
          "model_module_version": "1.5.0",
          "state": {
            "_model_module": "@jupyter-widgets/controls",
            "_model_module_version": "1.5.0",
            "_model_name": "ProgressStyleModel",
            "_view_count": null,
            "_view_module": "@jupyter-widgets/base",
            "_view_module_version": "1.2.0",
            "_view_name": "StyleView",
            "bar_color": null,
            "description_width": ""
          }
        },
        "040a9ecb83a2420dbf89a05a055e4627": {
          "model_module": "@jupyter-widgets/base",
          "model_name": "LayoutModel",
          "model_module_version": "1.2.0",
          "state": {
            "_model_module": "@jupyter-widgets/base",
            "_model_module_version": "1.2.0",
            "_model_name": "LayoutModel",
            "_view_count": null,
            "_view_module": "@jupyter-widgets/base",
            "_view_module_version": "1.2.0",
            "_view_name": "LayoutView",
            "align_content": null,
            "align_items": null,
            "align_self": null,
            "border": null,
            "bottom": null,
            "display": null,
            "flex": null,
            "flex_flow": null,
            "grid_area": null,
            "grid_auto_columns": null,
            "grid_auto_flow": null,
            "grid_auto_rows": null,
            "grid_column": null,
            "grid_gap": null,
            "grid_row": null,
            "grid_template_areas": null,
            "grid_template_columns": null,
            "grid_template_rows": null,
            "height": null,
            "justify_content": null,
            "justify_items": null,
            "left": null,
            "margin": null,
            "max_height": null,
            "max_width": null,
            "min_height": null,
            "min_width": null,
            "object_fit": null,
            "object_position": null,
            "order": null,
            "overflow": null,
            "overflow_x": null,
            "overflow_y": null,
            "padding": null,
            "right": null,
            "top": null,
            "visibility": null,
            "width": null
          }
        },
        "0f6f458f7f5047f7abcff13f20a46c76": {
          "model_module": "@jupyter-widgets/controls",
          "model_name": "DescriptionStyleModel",
          "model_module_version": "1.5.0",
          "state": {
            "_model_module": "@jupyter-widgets/controls",
            "_model_module_version": "1.5.0",
            "_model_name": "DescriptionStyleModel",
            "_view_count": null,
            "_view_module": "@jupyter-widgets/base",
            "_view_module_version": "1.2.0",
            "_view_name": "StyleView",
            "description_width": ""
          }
        },
        "44d30c6a5d3343f8b15a5f7183dbd51a": {
          "model_module": "@jupyter-widgets/controls",
          "model_name": "HBoxModel",
          "model_module_version": "1.5.0",
          "state": {
            "_dom_classes": [],
            "_model_module": "@jupyter-widgets/controls",
            "_model_module_version": "1.5.0",
            "_model_name": "HBoxModel",
            "_view_count": null,
            "_view_module": "@jupyter-widgets/controls",
            "_view_module_version": "1.5.0",
            "_view_name": "HBoxView",
            "box_style": "",
            "children": [
              "IPY_MODEL_3603e2c3916142869a9143e6690e2be4",
              "IPY_MODEL_60981522e0664d72a553c6394b8cf538",
              "IPY_MODEL_c205015129634b7ab7e0036ea5ed9311"
            ],
            "layout": "IPY_MODEL_19831321ae914d00b5dc4212597f1aa3"
          }
        },
        "3603e2c3916142869a9143e6690e2be4": {
          "model_module": "@jupyter-widgets/controls",
          "model_name": "HTMLModel",
          "model_module_version": "1.5.0",
          "state": {
            "_dom_classes": [],
            "_model_module": "@jupyter-widgets/controls",
            "_model_module_version": "1.5.0",
            "_model_name": "HTMLModel",
            "_view_count": null,
            "_view_module": "@jupyter-widgets/controls",
            "_view_module_version": "1.5.0",
            "_view_name": "HTMLView",
            "description": "",
            "description_tooltip": null,
            "layout": "IPY_MODEL_b15847b4254546cd863b718371c2f92e",
            "placeholder": "​",
            "style": "IPY_MODEL_3556f3310bd84ebf890afd71d51332f5",
            "value": "Batches: 100%"
          }
        },
        "60981522e0664d72a553c6394b8cf538": {
          "model_module": "@jupyter-widgets/controls",
          "model_name": "FloatProgressModel",
          "model_module_version": "1.5.0",
          "state": {
            "_dom_classes": [],
            "_model_module": "@jupyter-widgets/controls",
            "_model_module_version": "1.5.0",
            "_model_name": "FloatProgressModel",
            "_view_count": null,
            "_view_module": "@jupyter-widgets/controls",
            "_view_module_version": "1.5.0",
            "_view_name": "ProgressView",
            "bar_style": "success",
            "description": "",
            "description_tooltip": null,
            "layout": "IPY_MODEL_1c0b70d481994764a2556a0ac0c3312f",
            "max": 1,
            "min": 0,
            "orientation": "horizontal",
            "style": "IPY_MODEL_46dffa5905e146e4aaa0ed4e7d176baf",
            "value": 1
          }
        },
        "c205015129634b7ab7e0036ea5ed9311": {
          "model_module": "@jupyter-widgets/controls",
          "model_name": "HTMLModel",
          "model_module_version": "1.5.0",
          "state": {
            "_dom_classes": [],
            "_model_module": "@jupyter-widgets/controls",
            "_model_module_version": "1.5.0",
            "_model_name": "HTMLModel",
            "_view_count": null,
            "_view_module": "@jupyter-widgets/controls",
            "_view_module_version": "1.5.0",
            "_view_name": "HTMLView",
            "description": "",
            "description_tooltip": null,
            "layout": "IPY_MODEL_28249b747c444a8e8ef5f9cb6cf8a1e6",
            "placeholder": "​",
            "style": "IPY_MODEL_50992d7e53cf48f0811525087c750cbe",
            "value": " 1/1 [00:00&lt;00:00,  7.43it/s]"
          }
        },
        "19831321ae914d00b5dc4212597f1aa3": {
          "model_module": "@jupyter-widgets/base",
          "model_name": "LayoutModel",
          "model_module_version": "1.2.0",
          "state": {
            "_model_module": "@jupyter-widgets/base",
            "_model_module_version": "1.2.0",
            "_model_name": "LayoutModel",
            "_view_count": null,
            "_view_module": "@jupyter-widgets/base",
            "_view_module_version": "1.2.0",
            "_view_name": "LayoutView",
            "align_content": null,
            "align_items": null,
            "align_self": null,
            "border": null,
            "bottom": null,
            "display": null,
            "flex": null,
            "flex_flow": null,
            "grid_area": null,
            "grid_auto_columns": null,
            "grid_auto_flow": null,
            "grid_auto_rows": null,
            "grid_column": null,
            "grid_gap": null,
            "grid_row": null,
            "grid_template_areas": null,
            "grid_template_columns": null,
            "grid_template_rows": null,
            "height": null,
            "justify_content": null,
            "justify_items": null,
            "left": null,
            "margin": null,
            "max_height": null,
            "max_width": null,
            "min_height": null,
            "min_width": null,
            "object_fit": null,
            "object_position": null,
            "order": null,
            "overflow": null,
            "overflow_x": null,
            "overflow_y": null,
            "padding": null,
            "right": null,
            "top": null,
            "visibility": null,
            "width": null
          }
        },
        "b15847b4254546cd863b718371c2f92e": {
          "model_module": "@jupyter-widgets/base",
          "model_name": "LayoutModel",
          "model_module_version": "1.2.0",
          "state": {
            "_model_module": "@jupyter-widgets/base",
            "_model_module_version": "1.2.0",
            "_model_name": "LayoutModel",
            "_view_count": null,
            "_view_module": "@jupyter-widgets/base",
            "_view_module_version": "1.2.0",
            "_view_name": "LayoutView",
            "align_content": null,
            "align_items": null,
            "align_self": null,
            "border": null,
            "bottom": null,
            "display": null,
            "flex": null,
            "flex_flow": null,
            "grid_area": null,
            "grid_auto_columns": null,
            "grid_auto_flow": null,
            "grid_auto_rows": null,
            "grid_column": null,
            "grid_gap": null,
            "grid_row": null,
            "grid_template_areas": null,
            "grid_template_columns": null,
            "grid_template_rows": null,
            "height": null,
            "justify_content": null,
            "justify_items": null,
            "left": null,
            "margin": null,
            "max_height": null,
            "max_width": null,
            "min_height": null,
            "min_width": null,
            "object_fit": null,
            "object_position": null,
            "order": null,
            "overflow": null,
            "overflow_x": null,
            "overflow_y": null,
            "padding": null,
            "right": null,
            "top": null,
            "visibility": null,
            "width": null
          }
        },
        "3556f3310bd84ebf890afd71d51332f5": {
          "model_module": "@jupyter-widgets/controls",
          "model_name": "DescriptionStyleModel",
          "model_module_version": "1.5.0",
          "state": {
            "_model_module": "@jupyter-widgets/controls",
            "_model_module_version": "1.5.0",
            "_model_name": "DescriptionStyleModel",
            "_view_count": null,
            "_view_module": "@jupyter-widgets/base",
            "_view_module_version": "1.2.0",
            "_view_name": "StyleView",
            "description_width": ""
          }
        },
        "1c0b70d481994764a2556a0ac0c3312f": {
          "model_module": "@jupyter-widgets/base",
          "model_name": "LayoutModel",
          "model_module_version": "1.2.0",
          "state": {
            "_model_module": "@jupyter-widgets/base",
            "_model_module_version": "1.2.0",
            "_model_name": "LayoutModel",
            "_view_count": null,
            "_view_module": "@jupyter-widgets/base",
            "_view_module_version": "1.2.0",
            "_view_name": "LayoutView",
            "align_content": null,
            "align_items": null,
            "align_self": null,
            "border": null,
            "bottom": null,
            "display": null,
            "flex": null,
            "flex_flow": null,
            "grid_area": null,
            "grid_auto_columns": null,
            "grid_auto_flow": null,
            "grid_auto_rows": null,
            "grid_column": null,
            "grid_gap": null,
            "grid_row": null,
            "grid_template_areas": null,
            "grid_template_columns": null,
            "grid_template_rows": null,
            "height": null,
            "justify_content": null,
            "justify_items": null,
            "left": null,
            "margin": null,
            "max_height": null,
            "max_width": null,
            "min_height": null,
            "min_width": null,
            "object_fit": null,
            "object_position": null,
            "order": null,
            "overflow": null,
            "overflow_x": null,
            "overflow_y": null,
            "padding": null,
            "right": null,
            "top": null,
            "visibility": null,
            "width": null
          }
        },
        "46dffa5905e146e4aaa0ed4e7d176baf": {
          "model_module": "@jupyter-widgets/controls",
          "model_name": "ProgressStyleModel",
          "model_module_version": "1.5.0",
          "state": {
            "_model_module": "@jupyter-widgets/controls",
            "_model_module_version": "1.5.0",
            "_model_name": "ProgressStyleModel",
            "_view_count": null,
            "_view_module": "@jupyter-widgets/base",
            "_view_module_version": "1.2.0",
            "_view_name": "StyleView",
            "bar_color": null,
            "description_width": ""
          }
        },
        "28249b747c444a8e8ef5f9cb6cf8a1e6": {
          "model_module": "@jupyter-widgets/base",
          "model_name": "LayoutModel",
          "model_module_version": "1.2.0",
          "state": {
            "_model_module": "@jupyter-widgets/base",
            "_model_module_version": "1.2.0",
            "_model_name": "LayoutModel",
            "_view_count": null,
            "_view_module": "@jupyter-widgets/base",
            "_view_module_version": "1.2.0",
            "_view_name": "LayoutView",
            "align_content": null,
            "align_items": null,
            "align_self": null,
            "border": null,
            "bottom": null,
            "display": null,
            "flex": null,
            "flex_flow": null,
            "grid_area": null,
            "grid_auto_columns": null,
            "grid_auto_flow": null,
            "grid_auto_rows": null,
            "grid_column": null,
            "grid_gap": null,
            "grid_row": null,
            "grid_template_areas": null,
            "grid_template_columns": null,
            "grid_template_rows": null,
            "height": null,
            "justify_content": null,
            "justify_items": null,
            "left": null,
            "margin": null,
            "max_height": null,
            "max_width": null,
            "min_height": null,
            "min_width": null,
            "object_fit": null,
            "object_position": null,
            "order": null,
            "overflow": null,
            "overflow_x": null,
            "overflow_y": null,
            "padding": null,
            "right": null,
            "top": null,
            "visibility": null,
            "width": null
          }
        },
        "50992d7e53cf48f0811525087c750cbe": {
          "model_module": "@jupyter-widgets/controls",
          "model_name": "DescriptionStyleModel",
          "model_module_version": "1.5.0",
          "state": {
            "_model_module": "@jupyter-widgets/controls",
            "_model_module_version": "1.5.0",
            "_model_name": "DescriptionStyleModel",
            "_view_count": null,
            "_view_module": "@jupyter-widgets/base",
            "_view_module_version": "1.2.0",
            "_view_name": "StyleView",
            "description_width": ""
          }
        },
        "56a456d8467247e68d21293cdf2e326e": {
          "model_module": "@jupyter-widgets/controls",
          "model_name": "HBoxModel",
          "model_module_version": "1.5.0",
          "state": {
            "_dom_classes": [],
            "_model_module": "@jupyter-widgets/controls",
            "_model_module_version": "1.5.0",
            "_model_name": "HBoxModel",
            "_view_count": null,
            "_view_module": "@jupyter-widgets/controls",
            "_view_module_version": "1.5.0",
            "_view_name": "HBoxView",
            "box_style": "",
            "children": [
              "IPY_MODEL_7a9ff9ad02b141df9ae6d33aaafcbb26",
              "IPY_MODEL_57716bf963f340aa99c7db6a6fbd778c",
              "IPY_MODEL_5a89ba46900144889e91afc1054cc743"
            ],
            "layout": "IPY_MODEL_98c1edf5c5324452911eb5a90fbe230f"
          }
        },
        "7a9ff9ad02b141df9ae6d33aaafcbb26": {
          "model_module": "@jupyter-widgets/controls",
          "model_name": "HTMLModel",
          "model_module_version": "1.5.0",
          "state": {
            "_dom_classes": [],
            "_model_module": "@jupyter-widgets/controls",
            "_model_module_version": "1.5.0",
            "_model_name": "HTMLModel",
            "_view_count": null,
            "_view_module": "@jupyter-widgets/controls",
            "_view_module_version": "1.5.0",
            "_view_name": "HTMLView",
            "description": "",
            "description_tooltip": null,
            "layout": "IPY_MODEL_71ed3b3d7f064c22b26582f26d5c621f",
            "placeholder": "​",
            "style": "IPY_MODEL_c460c611cbd5493e856e7baf5cb03c21",
            "value": "Batches: 100%"
          }
        },
        "57716bf963f340aa99c7db6a6fbd778c": {
          "model_module": "@jupyter-widgets/controls",
          "model_name": "FloatProgressModel",
          "model_module_version": "1.5.0",
          "state": {
            "_dom_classes": [],
            "_model_module": "@jupyter-widgets/controls",
            "_model_module_version": "1.5.0",
            "_model_name": "FloatProgressModel",
            "_view_count": null,
            "_view_module": "@jupyter-widgets/controls",
            "_view_module_version": "1.5.0",
            "_view_name": "ProgressView",
            "bar_style": "success",
            "description": "",
            "description_tooltip": null,
            "layout": "IPY_MODEL_96a3d4340666445fb91d4816ed2ed99f",
            "max": 1,
            "min": 0,
            "orientation": "horizontal",
            "style": "IPY_MODEL_1fe44a3fb6c04dfabcef81db19f84038",
            "value": 1
          }
        },
        "5a89ba46900144889e91afc1054cc743": {
          "model_module": "@jupyter-widgets/controls",
          "model_name": "HTMLModel",
          "model_module_version": "1.5.0",
          "state": {
            "_dom_classes": [],
            "_model_module": "@jupyter-widgets/controls",
            "_model_module_version": "1.5.0",
            "_model_name": "HTMLModel",
            "_view_count": null,
            "_view_module": "@jupyter-widgets/controls",
            "_view_module_version": "1.5.0",
            "_view_name": "HTMLView",
            "description": "",
            "description_tooltip": null,
            "layout": "IPY_MODEL_16f5a8c8d31f419fa3f2c8aaaddc01b1",
            "placeholder": "​",
            "style": "IPY_MODEL_e159224d451a422eabb3a3c36ddd1cff",
            "value": " 1/1 [00:01&lt;00:00,  1.93s/it]"
          }
        },
        "98c1edf5c5324452911eb5a90fbe230f": {
          "model_module": "@jupyter-widgets/base",
          "model_name": "LayoutModel",
          "model_module_version": "1.2.0",
          "state": {
            "_model_module": "@jupyter-widgets/base",
            "_model_module_version": "1.2.0",
            "_model_name": "LayoutModel",
            "_view_count": null,
            "_view_module": "@jupyter-widgets/base",
            "_view_module_version": "1.2.0",
            "_view_name": "LayoutView",
            "align_content": null,
            "align_items": null,
            "align_self": null,
            "border": null,
            "bottom": null,
            "display": null,
            "flex": null,
            "flex_flow": null,
            "grid_area": null,
            "grid_auto_columns": null,
            "grid_auto_flow": null,
            "grid_auto_rows": null,
            "grid_column": null,
            "grid_gap": null,
            "grid_row": null,
            "grid_template_areas": null,
            "grid_template_columns": null,
            "grid_template_rows": null,
            "height": null,
            "justify_content": null,
            "justify_items": null,
            "left": null,
            "margin": null,
            "max_height": null,
            "max_width": null,
            "min_height": null,
            "min_width": null,
            "object_fit": null,
            "object_position": null,
            "order": null,
            "overflow": null,
            "overflow_x": null,
            "overflow_y": null,
            "padding": null,
            "right": null,
            "top": null,
            "visibility": null,
            "width": null
          }
        },
        "71ed3b3d7f064c22b26582f26d5c621f": {
          "model_module": "@jupyter-widgets/base",
          "model_name": "LayoutModel",
          "model_module_version": "1.2.0",
          "state": {
            "_model_module": "@jupyter-widgets/base",
            "_model_module_version": "1.2.0",
            "_model_name": "LayoutModel",
            "_view_count": null,
            "_view_module": "@jupyter-widgets/base",
            "_view_module_version": "1.2.0",
            "_view_name": "LayoutView",
            "align_content": null,
            "align_items": null,
            "align_self": null,
            "border": null,
            "bottom": null,
            "display": null,
            "flex": null,
            "flex_flow": null,
            "grid_area": null,
            "grid_auto_columns": null,
            "grid_auto_flow": null,
            "grid_auto_rows": null,
            "grid_column": null,
            "grid_gap": null,
            "grid_row": null,
            "grid_template_areas": null,
            "grid_template_columns": null,
            "grid_template_rows": null,
            "height": null,
            "justify_content": null,
            "justify_items": null,
            "left": null,
            "margin": null,
            "max_height": null,
            "max_width": null,
            "min_height": null,
            "min_width": null,
            "object_fit": null,
            "object_position": null,
            "order": null,
            "overflow": null,
            "overflow_x": null,
            "overflow_y": null,
            "padding": null,
            "right": null,
            "top": null,
            "visibility": null,
            "width": null
          }
        },
        "c460c611cbd5493e856e7baf5cb03c21": {
          "model_module": "@jupyter-widgets/controls",
          "model_name": "DescriptionStyleModel",
          "model_module_version": "1.5.0",
          "state": {
            "_model_module": "@jupyter-widgets/controls",
            "_model_module_version": "1.5.0",
            "_model_name": "DescriptionStyleModel",
            "_view_count": null,
            "_view_module": "@jupyter-widgets/base",
            "_view_module_version": "1.2.0",
            "_view_name": "StyleView",
            "description_width": ""
          }
        },
        "96a3d4340666445fb91d4816ed2ed99f": {
          "model_module": "@jupyter-widgets/base",
          "model_name": "LayoutModel",
          "model_module_version": "1.2.0",
          "state": {
            "_model_module": "@jupyter-widgets/base",
            "_model_module_version": "1.2.0",
            "_model_name": "LayoutModel",
            "_view_count": null,
            "_view_module": "@jupyter-widgets/base",
            "_view_module_version": "1.2.0",
            "_view_name": "LayoutView",
            "align_content": null,
            "align_items": null,
            "align_self": null,
            "border": null,
            "bottom": null,
            "display": null,
            "flex": null,
            "flex_flow": null,
            "grid_area": null,
            "grid_auto_columns": null,
            "grid_auto_flow": null,
            "grid_auto_rows": null,
            "grid_column": null,
            "grid_gap": null,
            "grid_row": null,
            "grid_template_areas": null,
            "grid_template_columns": null,
            "grid_template_rows": null,
            "height": null,
            "justify_content": null,
            "justify_items": null,
            "left": null,
            "margin": null,
            "max_height": null,
            "max_width": null,
            "min_height": null,
            "min_width": null,
            "object_fit": null,
            "object_position": null,
            "order": null,
            "overflow": null,
            "overflow_x": null,
            "overflow_y": null,
            "padding": null,
            "right": null,
            "top": null,
            "visibility": null,
            "width": null
          }
        },
        "1fe44a3fb6c04dfabcef81db19f84038": {
          "model_module": "@jupyter-widgets/controls",
          "model_name": "ProgressStyleModel",
          "model_module_version": "1.5.0",
          "state": {
            "_model_module": "@jupyter-widgets/controls",
            "_model_module_version": "1.5.0",
            "_model_name": "ProgressStyleModel",
            "_view_count": null,
            "_view_module": "@jupyter-widgets/base",
            "_view_module_version": "1.2.0",
            "_view_name": "StyleView",
            "bar_color": null,
            "description_width": ""
          }
        },
        "16f5a8c8d31f419fa3f2c8aaaddc01b1": {
          "model_module": "@jupyter-widgets/base",
          "model_name": "LayoutModel",
          "model_module_version": "1.2.0",
          "state": {
            "_model_module": "@jupyter-widgets/base",
            "_model_module_version": "1.2.0",
            "_model_name": "LayoutModel",
            "_view_count": null,
            "_view_module": "@jupyter-widgets/base",
            "_view_module_version": "1.2.0",
            "_view_name": "LayoutView",
            "align_content": null,
            "align_items": null,
            "align_self": null,
            "border": null,
            "bottom": null,
            "display": null,
            "flex": null,
            "flex_flow": null,
            "grid_area": null,
            "grid_auto_columns": null,
            "grid_auto_flow": null,
            "grid_auto_rows": null,
            "grid_column": null,
            "grid_gap": null,
            "grid_row": null,
            "grid_template_areas": null,
            "grid_template_columns": null,
            "grid_template_rows": null,
            "height": null,
            "justify_content": null,
            "justify_items": null,
            "left": null,
            "margin": null,
            "max_height": null,
            "max_width": null,
            "min_height": null,
            "min_width": null,
            "object_fit": null,
            "object_position": null,
            "order": null,
            "overflow": null,
            "overflow_x": null,
            "overflow_y": null,
            "padding": null,
            "right": null,
            "top": null,
            "visibility": null,
            "width": null
          }
        },
        "e159224d451a422eabb3a3c36ddd1cff": {
          "model_module": "@jupyter-widgets/controls",
          "model_name": "DescriptionStyleModel",
          "model_module_version": "1.5.0",
          "state": {
            "_model_module": "@jupyter-widgets/controls",
            "_model_module_version": "1.5.0",
            "_model_name": "DescriptionStyleModel",
            "_view_count": null,
            "_view_module": "@jupyter-widgets/base",
            "_view_module_version": "1.2.0",
            "_view_name": "StyleView",
            "description_width": ""
          }
        },
        "3437986a80ff43dbb1ec509a9c9bed68": {
          "model_module": "@jupyter-widgets/controls",
          "model_name": "HBoxModel",
          "model_module_version": "1.5.0",
          "state": {
            "_dom_classes": [],
            "_model_module": "@jupyter-widgets/controls",
            "_model_module_version": "1.5.0",
            "_model_name": "HBoxModel",
            "_view_count": null,
            "_view_module": "@jupyter-widgets/controls",
            "_view_module_version": "1.5.0",
            "_view_name": "HBoxView",
            "box_style": "",
            "children": [
              "IPY_MODEL_8a39942db6bf40a0b4e9a5c069d36ec7",
              "IPY_MODEL_d86cec13491347b3ba48ed670e9601d0",
              "IPY_MODEL_acbdb22bc34946219ffaa0e5f062ed9b"
            ],
            "layout": "IPY_MODEL_8881252281274b95acfb83d29b5be9fa"
          }
        },
        "8a39942db6bf40a0b4e9a5c069d36ec7": {
          "model_module": "@jupyter-widgets/controls",
          "model_name": "HTMLModel",
          "model_module_version": "1.5.0",
          "state": {
            "_dom_classes": [],
            "_model_module": "@jupyter-widgets/controls",
            "_model_module_version": "1.5.0",
            "_model_name": "HTMLModel",
            "_view_count": null,
            "_view_module": "@jupyter-widgets/controls",
            "_view_module_version": "1.5.0",
            "_view_name": "HTMLView",
            "description": "",
            "description_tooltip": null,
            "layout": "IPY_MODEL_dcf22fe23df8410b9a5ecff7120c8575",
            "placeholder": "​",
            "style": "IPY_MODEL_5c9fd72224b54f5f97a7119aa91cb795",
            "value": "Batches: 100%"
          }
        },
        "d86cec13491347b3ba48ed670e9601d0": {
          "model_module": "@jupyter-widgets/controls",
          "model_name": "FloatProgressModel",
          "model_module_version": "1.5.0",
          "state": {
            "_dom_classes": [],
            "_model_module": "@jupyter-widgets/controls",
            "_model_module_version": "1.5.0",
            "_model_name": "FloatProgressModel",
            "_view_count": null,
            "_view_module": "@jupyter-widgets/controls",
            "_view_module_version": "1.5.0",
            "_view_name": "ProgressView",
            "bar_style": "success",
            "description": "",
            "description_tooltip": null,
            "layout": "IPY_MODEL_2c8b936204da48229d2361bd41f0a1b8",
            "max": 1,
            "min": 0,
            "orientation": "horizontal",
            "style": "IPY_MODEL_b2aecd7280fa421aa69341106396c02b",
            "value": 1
          }
        },
        "acbdb22bc34946219ffaa0e5f062ed9b": {
          "model_module": "@jupyter-widgets/controls",
          "model_name": "HTMLModel",
          "model_module_version": "1.5.0",
          "state": {
            "_dom_classes": [],
            "_model_module": "@jupyter-widgets/controls",
            "_model_module_version": "1.5.0",
            "_model_name": "HTMLModel",
            "_view_count": null,
            "_view_module": "@jupyter-widgets/controls",
            "_view_module_version": "1.5.0",
            "_view_name": "HTMLView",
            "description": "",
            "description_tooltip": null,
            "layout": "IPY_MODEL_52ce11d495c54504a8ffa11431ea1e87",
            "placeholder": "​",
            "style": "IPY_MODEL_e6414f90ee7c4684bda1a626cb6c10fb",
            "value": " 1/1 [00:00&lt;00:00,  7.59it/s]"
          }
        },
        "8881252281274b95acfb83d29b5be9fa": {
          "model_module": "@jupyter-widgets/base",
          "model_name": "LayoutModel",
          "model_module_version": "1.2.0",
          "state": {
            "_model_module": "@jupyter-widgets/base",
            "_model_module_version": "1.2.0",
            "_model_name": "LayoutModel",
            "_view_count": null,
            "_view_module": "@jupyter-widgets/base",
            "_view_module_version": "1.2.0",
            "_view_name": "LayoutView",
            "align_content": null,
            "align_items": null,
            "align_self": null,
            "border": null,
            "bottom": null,
            "display": null,
            "flex": null,
            "flex_flow": null,
            "grid_area": null,
            "grid_auto_columns": null,
            "grid_auto_flow": null,
            "grid_auto_rows": null,
            "grid_column": null,
            "grid_gap": null,
            "grid_row": null,
            "grid_template_areas": null,
            "grid_template_columns": null,
            "grid_template_rows": null,
            "height": null,
            "justify_content": null,
            "justify_items": null,
            "left": null,
            "margin": null,
            "max_height": null,
            "max_width": null,
            "min_height": null,
            "min_width": null,
            "object_fit": null,
            "object_position": null,
            "order": null,
            "overflow": null,
            "overflow_x": null,
            "overflow_y": null,
            "padding": null,
            "right": null,
            "top": null,
            "visibility": null,
            "width": null
          }
        },
        "dcf22fe23df8410b9a5ecff7120c8575": {
          "model_module": "@jupyter-widgets/base",
          "model_name": "LayoutModel",
          "model_module_version": "1.2.0",
          "state": {
            "_model_module": "@jupyter-widgets/base",
            "_model_module_version": "1.2.0",
            "_model_name": "LayoutModel",
            "_view_count": null,
            "_view_module": "@jupyter-widgets/base",
            "_view_module_version": "1.2.0",
            "_view_name": "LayoutView",
            "align_content": null,
            "align_items": null,
            "align_self": null,
            "border": null,
            "bottom": null,
            "display": null,
            "flex": null,
            "flex_flow": null,
            "grid_area": null,
            "grid_auto_columns": null,
            "grid_auto_flow": null,
            "grid_auto_rows": null,
            "grid_column": null,
            "grid_gap": null,
            "grid_row": null,
            "grid_template_areas": null,
            "grid_template_columns": null,
            "grid_template_rows": null,
            "height": null,
            "justify_content": null,
            "justify_items": null,
            "left": null,
            "margin": null,
            "max_height": null,
            "max_width": null,
            "min_height": null,
            "min_width": null,
            "object_fit": null,
            "object_position": null,
            "order": null,
            "overflow": null,
            "overflow_x": null,
            "overflow_y": null,
            "padding": null,
            "right": null,
            "top": null,
            "visibility": null,
            "width": null
          }
        },
        "5c9fd72224b54f5f97a7119aa91cb795": {
          "model_module": "@jupyter-widgets/controls",
          "model_name": "DescriptionStyleModel",
          "model_module_version": "1.5.0",
          "state": {
            "_model_module": "@jupyter-widgets/controls",
            "_model_module_version": "1.5.0",
            "_model_name": "DescriptionStyleModel",
            "_view_count": null,
            "_view_module": "@jupyter-widgets/base",
            "_view_module_version": "1.2.0",
            "_view_name": "StyleView",
            "description_width": ""
          }
        },
        "2c8b936204da48229d2361bd41f0a1b8": {
          "model_module": "@jupyter-widgets/base",
          "model_name": "LayoutModel",
          "model_module_version": "1.2.0",
          "state": {
            "_model_module": "@jupyter-widgets/base",
            "_model_module_version": "1.2.0",
            "_model_name": "LayoutModel",
            "_view_count": null,
            "_view_module": "@jupyter-widgets/base",
            "_view_module_version": "1.2.0",
            "_view_name": "LayoutView",
            "align_content": null,
            "align_items": null,
            "align_self": null,
            "border": null,
            "bottom": null,
            "display": null,
            "flex": null,
            "flex_flow": null,
            "grid_area": null,
            "grid_auto_columns": null,
            "grid_auto_flow": null,
            "grid_auto_rows": null,
            "grid_column": null,
            "grid_gap": null,
            "grid_row": null,
            "grid_template_areas": null,
            "grid_template_columns": null,
            "grid_template_rows": null,
            "height": null,
            "justify_content": null,
            "justify_items": null,
            "left": null,
            "margin": null,
            "max_height": null,
            "max_width": null,
            "min_height": null,
            "min_width": null,
            "object_fit": null,
            "object_position": null,
            "order": null,
            "overflow": null,
            "overflow_x": null,
            "overflow_y": null,
            "padding": null,
            "right": null,
            "top": null,
            "visibility": null,
            "width": null
          }
        },
        "b2aecd7280fa421aa69341106396c02b": {
          "model_module": "@jupyter-widgets/controls",
          "model_name": "ProgressStyleModel",
          "model_module_version": "1.5.0",
          "state": {
            "_model_module": "@jupyter-widgets/controls",
            "_model_module_version": "1.5.0",
            "_model_name": "ProgressStyleModel",
            "_view_count": null,
            "_view_module": "@jupyter-widgets/base",
            "_view_module_version": "1.2.0",
            "_view_name": "StyleView",
            "bar_color": null,
            "description_width": ""
          }
        },
        "52ce11d495c54504a8ffa11431ea1e87": {
          "model_module": "@jupyter-widgets/base",
          "model_name": "LayoutModel",
          "model_module_version": "1.2.0",
          "state": {
            "_model_module": "@jupyter-widgets/base",
            "_model_module_version": "1.2.0",
            "_model_name": "LayoutModel",
            "_view_count": null,
            "_view_module": "@jupyter-widgets/base",
            "_view_module_version": "1.2.0",
            "_view_name": "LayoutView",
            "align_content": null,
            "align_items": null,
            "align_self": null,
            "border": null,
            "bottom": null,
            "display": null,
            "flex": null,
            "flex_flow": null,
            "grid_area": null,
            "grid_auto_columns": null,
            "grid_auto_flow": null,
            "grid_auto_rows": null,
            "grid_column": null,
            "grid_gap": null,
            "grid_row": null,
            "grid_template_areas": null,
            "grid_template_columns": null,
            "grid_template_rows": null,
            "height": null,
            "justify_content": null,
            "justify_items": null,
            "left": null,
            "margin": null,
            "max_height": null,
            "max_width": null,
            "min_height": null,
            "min_width": null,
            "object_fit": null,
            "object_position": null,
            "order": null,
            "overflow": null,
            "overflow_x": null,
            "overflow_y": null,
            "padding": null,
            "right": null,
            "top": null,
            "visibility": null,
            "width": null
          }
        },
        "e6414f90ee7c4684bda1a626cb6c10fb": {
          "model_module": "@jupyter-widgets/controls",
          "model_name": "DescriptionStyleModel",
          "model_module_version": "1.5.0",
          "state": {
            "_model_module": "@jupyter-widgets/controls",
            "_model_module_version": "1.5.0",
            "_model_name": "DescriptionStyleModel",
            "_view_count": null,
            "_view_module": "@jupyter-widgets/base",
            "_view_module_version": "1.2.0",
            "_view_name": "StyleView",
            "description_width": ""
          }
        }
      }
    }
  },
  "cells": [
    {
      "cell_type": "markdown",
      "source": [
        "# RAG Haystack Demo\n",
        "**Demo for Iteration 2 of the prototype.**\n",
        "\n",
        "Installs:\\\n",
        "!pip install haystack-ai\\\n",
        "!pip install python-pptx\\\n",
        "!pip install python-docx\\\n",
        "!pip install pypdf2\\\n",
        "!pip install trafilatura\\\n",
        "!pip install unstructured-client\\\n",
        "!pip install unstructured-fileconverter-haystack\\\n",
        "!pip install unstructured\\\n",
        "!pip install sentence-transformers"
      ],
      "metadata": {
        "id": "H-nQX9HqiJMz"
      }
    },
    {
      "cell_type": "code",
      "source": [
        "from haystack import Pipeline\n",
        "from haystack import Document\n",
        "from haystack.document_stores.in_memory import InMemoryDocumentStore\n",
        "from haystack_integrations.components.converters.unstructured import UnstructuredFileConverter\n",
        "from haystack.components.preprocessors import DocumentSplitter\n",
        "from haystack.components.embedders import SentenceTransformersDocumentEmbedder\n",
        "from haystack.components.writers import DocumentWriter\n",
        "from haystack.components.retrievers.in_memory import InMemoryBM25Retriever\n",
        "from haystack.utils import Secret\n",
        "from haystack.components.generators import OpenAIGenerator\n",
        "from haystack.components.retrievers.in_memory import InMemoryBM25Retriever, InMemoryEmbeddingRetriever\n",
        "from haystack.components.embedders import SentenceTransformersTextEmbedder\n",
        "from haystack.components.joiners.document_joiner import DocumentJoiner\n",
        "from haystack.components.builders import PromptBuilder"
      ],
      "metadata": {
        "id": "FmFAvzFZPgLo"
      },
      "execution_count": null,
      "outputs": []
    },
    {
      "cell_type": "code",
      "source": [
        "import os\n",
        "\n",
        "# Groq API Key\n",
        "GROQ_OPENAI_API_KEY = userdata.get('GROQ_OPENAI_API_KEY')\n",
        "os.environ['GROQ_OPENAI_API_KEY'] = GROQ_OPENAI_API_KEY\n",
        "\n",
        "# Unstructured API Key\n",
        "UNSTRUCTURED_API_KEY = userdata.get('UNSTRUCTURED_API_KEY')\n",
        "os.environ['UNSTRUCTURED_API_KEY'] = UNSTRUCTURED_API_KEY"
      ],
      "metadata": {
        "id": "xDl4A78Llygu"
      },
      "execution_count": null,
      "outputs": []
    },
    {
      "cell_type": "markdown",
      "source": [
        "# **Indexing**"
      ],
      "metadata": {
        "id": "S1cB1YlsNk9T"
      }
    },
    {
      "cell_type": "code",
      "source": [
        "document_store = InMemoryDocumentStore(embedding_similarity_function=\"cosine\")"
      ],
      "metadata": {
        "id": "tZmJy8_-k2nN"
      },
      "execution_count": null,
      "outputs": []
    },
    {
      "cell_type": "markdown",
      "source": [
        "### Converter"
      ],
      "metadata": {
        "id": "WuB2r_NRQhpL"
      }
    },
    {
      "cell_type": "code",
      "source": [
        "converter = UnstructuredFileConverter()\n",
        "result = converter.run(paths=[\"demo_guide.pdf\"])\n",
        "print(result['documents'][0].content)"
      ],
      "metadata": {
        "colab": {
          "base_uri": "https://localhost:8080/"
        },
        "id": "YuEeeWrwQoIl",
        "outputId": "8029bfda-0b45-4acd-ce09-c0f9138181c0"
      },
      "execution_count": null,
      "outputs": [
        {
          "output_type": "stream",
          "name": "stderr",
          "text": [
            "Converting files to Haystack Documents: 1it [00:03,  3.99s/it]"
          ]
        },
        {
          "output_type": "stream",
          "name": "stdout",
          "text": [
            "Outdated User Guide (Dummy Data)\n",
            "\n",
            "1. Access the System: Open your web browser and navigate to\n",
            "\n",
            "www.oldcompanyportal.com to access the internal project management system. 2. Log In: Enter your username and temporary password sent to you via email. Click\n",
            "\n",
            "\"Login\" to access the system.\n",
            "\n",
            "3. Change Password: Go to the \"Account Settings\" section and change your temporary password to a new, secure one.\n",
            "\n",
            "4. Complete Profile Information: Fill out your profile with required information, including job title, department, and contact information.\n",
            "\n",
            "5. Join Your Team’s Project: Locate the “Projects” tab, find your team’s project, and click “Join” to get access.\n",
            "\n",
            "6. Set Up Notifications: Configure your notification preferences under “Settings” to receive updates about project activities and deadlines.\n",
            "\n",
            "7. Review Training Materials: Download and review the training materials available in the “Resources” section to familiarize yourself with the system’s features.\n",
            "\n",
            "8. Attend Orientation Webinar: Join the scheduled orientation webinar using the link provided in your onboarding email to learn more about the system and best practices.\n"
          ]
        },
        {
          "output_type": "stream",
          "name": "stderr",
          "text": [
            "\n"
          ]
        }
      ]
    },
    {
      "cell_type": "markdown",
      "source": [
        "### Cleaner\n",
        "Not used in this demo."
      ],
      "metadata": {
        "id": "U6-psC9hWQKU"
      }
    },
    {
      "cell_type": "code",
      "source": [
        "# from haystack.components.preprocessors import DocumentCleaner\n",
        "\n",
        "# cleaner = DocumentCleaner(\n",
        "#   ascii_only=True,\n",
        "# \tremove_empty_lines=True,\n",
        "# \tremove_extra_whitespaces=True,\n",
        "# \tremove_repeated_substrings=False)\n",
        "\n",
        "# cleaned_result = cleaner.run(documents=result['documents'])\n",
        "# print(cleaned_result['documents'][0].content)"
      ],
      "metadata": {
        "id": "XyAPynZcWGIf"
      },
      "execution_count": null,
      "outputs": []
    },
    {
      "cell_type": "markdown",
      "source": [
        "### Splitter/Chunker"
      ],
      "metadata": {
        "id": "zDHTwaP5WRQV"
      }
    },
    {
      "cell_type": "code",
      "source": [
        "splitter = DocumentSplitter(split_by=\"passage\", split_length=1, split_overlap=0)\n",
        "split_result = splitter.run(documents=result['documents'])\n",
        "\n",
        "for document in split_result[\"documents\"]:\n",
        "    print(f\"{document.content}\\n\")"
      ],
      "metadata": {
        "colab": {
          "base_uri": "https://localhost:8080/"
        },
        "id": "lOlGbHcpQEHN",
        "outputId": "b49e8636-ab48-4549-c55a-d3af2d201a41"
      },
      "execution_count": null,
      "outputs": [
        {
          "output_type": "stream",
          "name": "stdout",
          "text": [
            "Outdated User Guide (Dummy Data)\n",
            "\n",
            "\n",
            "\n",
            "1. Access the System: Open your web browser and navigate to\n",
            "\n",
            "\n",
            "\n",
            "www.oldcompanyportal.com to access the internal project management system. 2. Log In: Enter your username and temporary password sent to you via email. Click\n",
            "\n",
            "\n",
            "\n",
            "\"Login\" to access the system.\n",
            "\n",
            "\n",
            "\n",
            "3. Change Password: Go to the \"Account Settings\" section and change your temporary password to a new, secure one.\n",
            "\n",
            "\n",
            "\n",
            "4. Complete Profile Information: Fill out your profile with required information, including job title, department, and contact information.\n",
            "\n",
            "\n",
            "\n",
            "5. Join Your Team’s Project: Locate the “Projects” tab, find your team’s project, and click “Join” to get access.\n",
            "\n",
            "\n",
            "\n",
            "6. Set Up Notifications: Configure your notification preferences under “Settings” to receive updates about project activities and deadlines.\n",
            "\n",
            "\n",
            "\n",
            "7. Review Training Materials: Download and review the training materials available in the “Resources” section to familiarize yourself with the system’s features.\n",
            "\n",
            "\n",
            "\n",
            "8. Attend Orientation Webinar: Join the scheduled orientation webinar using the link provided in your onboarding email to learn more about the system and best practices.\n",
            "\n"
          ]
        }
      ]
    },
    {
      "cell_type": "markdown",
      "source": [
        "# Embedder"
      ],
      "metadata": {
        "id": "L6ptUUVEXiRt"
      }
    },
    {
      "cell_type": "code",
      "source": [
        "embedder = SentenceTransformersDocumentEmbedder()\n",
        "embedder.warm_up()\n",
        "\n",
        "result = embedder.run(split_result['documents'])\n",
        "print(result['documents'][0].embedding)\n",
        "\n",
        "# [-0.07804739475250244, 0.1498992145061493, ...]"
      ],
      "metadata": {
        "colab": {
          "base_uri": "https://localhost:8080/",
          "height": 87,
          "referenced_widgets": [
            "6d62f72c156049bdaf139183ad02e94f",
            "e4a36d3d7a394df1a55ee979b4a839f7",
            "eb4da07ae18541188f02c61f6bef375d",
            "290c65243b5c4fc88fbdb5ec4620ce1d",
            "e869266ec476456eb9f8c0d5d29ba610",
            "bf0f7b5027154074a7dc1c3a233c4e15",
            "1f41c6dcf4de4eee912220768928a6fb",
            "c61d0c16635a466c8d2c45daeedc4172",
            "cb996d368f8d4b3687c520f80bbe0c14",
            "040a9ecb83a2420dbf89a05a055e4627",
            "0f6f458f7f5047f7abcff13f20a46c76"
          ]
        },
        "id": "4dHvSqwxNkXk",
        "outputId": "91751f33-281e-40eb-d3d1-3a54da108221"
      },
      "execution_count": null,
      "outputs": [
        {
          "output_type": "display_data",
          "data": {
            "text/plain": [
              "Batches:   0%|          | 0/1 [00:00<?, ?it/s]"
            ],
            "application/vnd.jupyter.widget-view+json": {
              "version_major": 2,
              "version_minor": 0,
              "model_id": "6d62f72c156049bdaf139183ad02e94f"
            }
          },
          "metadata": {}
        },
        {
          "output_type": "stream",
          "name": "stdout",
          "text": [
            "[0.03033415786921978, 0.05205836892127991, -0.014277526177465916, -0.00599376717582345, 0.016766708344221115, 0.03268156200647354, 0.032735712826251984, 0.05453116074204445, -0.01761702075600624, -0.01664125546813011, 0.019778572022914886, -0.02227970026433468, 0.05907652899622917, 0.006886268500238657, -0.005678690969944, 0.015786822885274887, 0.019832633435726166, 0.021426865831017494, -0.04754222184419632, -0.01627623662352562, -0.013668759725987911, 0.014014596119523048, 0.0044463821686804295, 5.681907350663096e-05, -0.010881326161324978, 0.013826396316289902, -0.0050155362114310265, 0.027846809476614, -0.05109275504946709, -0.07425713539123535, 0.05998779460787773, 0.02396077662706375, 0.0355590395629406, -0.026728417724370956, 1.4078402728046058e-06, -0.05198126658797264, -0.0002693743444979191, 0.019516142085194588, -0.09193960577249527, 0.03845549374818802, 0.034137070178985596, -0.0034547424875199795, 0.01892569102346897, 0.016434265300631523, 0.004379418212920427, 0.00027547808713279665, -0.009324053302407265, 0.026145288720726967, -0.008679553866386414, 0.045821335166692734, 0.018093770369887352, 0.03804803639650345, 0.026602469384670258, -0.03308641165494919, 0.06740779429674149, 0.019371503964066505, 0.034123994410037994, 0.059272650629282, 0.023210614919662476, 0.02942204661667347, 0.00462242541834712, 0.01795043610036373, -0.009422601200640202, 0.014572642743587494, -0.00047200461267493665, 0.023611916229128838, 0.042530957609415054, -0.03952565789222717, 0.04148275405168533, 0.03804688900709152, 0.07553614675998688, -0.01516970619559288, -0.0016953331651166081, 0.02211366966366768, -0.03718790039420128, 0.04330788552761078, -0.012724729254841805, -0.07018221169710159, -0.010503573343157768, -0.012568265199661255, 0.0033010090701282024, -0.04053181782364845, -0.009238900616765022, -0.012307416647672653, -0.02172856032848358, 0.04014243558049202, -0.05227396637201309, -0.02307260036468506, 0.0416344478726387, -0.023519242182374, 0.006847473792731762, -0.001378735527396202, -0.05678948014974594, 0.0026942745316773653, 0.03068019077181816, -0.0197227094322443, 0.018536942079663277, 0.0033921762369573116, 0.04258861765265465, -0.06848307698965073, 0.04101889207959175, 0.0399242602288723, -0.051507215946912766, 0.048189595341682434, 0.04635646939277649, -0.0007708135526627302, 0.04386558383703232, 0.05688570439815521, -0.013417250476777554, 0.08389812707901001, 0.05548202618956566, 0.0066654556430876255, -0.0429568886756897, -0.010229427367448807, -0.03296149894595146, 0.03796517848968506, 0.04537808150053024, -0.01158834993839264, -0.007519961800426245, -0.0030587175861001015, 0.0938878282904625, -0.008127914741635323, -0.052317529916763306, 0.019895752891898155, -0.06193756312131882, -0.048864834010601044, -0.004127813968807459, 0.02236202172935009, -0.02503269352018833, -0.08435975015163422, -0.014938248321413994, -0.024618227034807205, 0.012333236634731293, -0.010065844282507896, 0.015207799151539803, -0.018727248534560204, -0.020906731486320496, 0.0073705934919416904, -0.08385410904884338, -0.04211575537919998, 0.02723129838705063, 0.005702049937099218, -0.006744369398802519, 0.019558876752853394, 0.03268705680966377, 0.026239389553666115, 0.0467628538608551, 0.019277239218354225, -0.026951344683766365, 0.06134909391403198, -0.0992572158575058, -0.01795780099928379, -0.06788067519664764, 0.03722753748297691, 0.017788607627153397, -0.012179171666502953, 0.02510516531765461, 0.006139687728136778, -0.04214625805616379, -0.06738772988319397, -0.016892435029149055, 0.013883285224437714, -0.01936805061995983, -0.007066088262945414, 0.039493121206760406, 0.027781354263424873, -0.044368792325258255, 0.0415416844189167, -0.03598903492093086, 0.002461285563185811, -0.041748546063899994, -0.018367277458310127, 0.001931671635247767, -0.011235198006033897, -0.041752398014068604, -0.012995014898478985, 0.03375494107604027, 0.02599341794848442, 0.02404963970184326, 0.028086576610803604, 0.059868473559617996, -0.0641929879784584, -0.016789503395557404, -0.03410455957055092, -0.10198117792606354, -0.0029718156438320875, -0.09958606958389282, -0.014615875668823719, -0.005878017749637365, -0.031462445855140686, -0.025547850877046585, -0.03398944064974785, 0.00869403500109911, -0.024601634591817856, -0.0011252379044890404, 0.03108721785247326, -0.0029136149678379297, -0.021949730813503265, 0.060250572860240936, 0.030052868649363518, 0.005064595490694046, 0.05250350385904312, 0.04330690577626228, 0.08265674859285355, 0.020772190764546394, -0.017431896179914474, -0.0074695018120110035, -0.023822776973247528, 0.06318431347608566, 0.004073120653629303, 0.0832023173570633, -0.013983272016048431, -0.014816434122622013, -0.06510434299707413, -0.012618914246559143, -0.009391526691615582, 0.012496840208768845, -0.020312348380684853, -0.004588469862937927, 0.023347914218902588, 0.012095248326659203, 0.003418284235522151, -0.06835297495126724, 0.021465789526700974, -0.0679631158709526, 0.004778322298079729, 0.0180144514888525, -0.029177669435739517, 0.02038336545228958, 0.02334139682352543, 0.01167522743344307, -0.017850151285529137, 0.007371522486209869, 0.034892380237579346, 0.03285105898976326, -0.0262904092669487, -0.06495509296655655, 0.024790290743112564, 0.043086230754852295, 0.045967839658260345, -0.02168278768658638, 0.059767529368400574, -0.003286526305601001, 0.04816962406039238, -0.04840169474482536, -0.013966752216219902, -0.0076680672354996204, -0.002137295436114073, -0.005396293941885233, 0.040432900190353394, 0.015030617825686932, 0.028776714578270912, 0.048898059874773026, -0.023350588977336884, -0.013695251196622849, 0.04204345867037773, -0.06148894503712654, 0.004324150271713734, 0.00126489601098001, 0.06372460722923279, 0.01635606586933136, -0.017890287563204765, -0.00014373677549883723, -0.010647217743098736, 0.016620907932519913, 0.017374198883771896, 0.08605489134788513, -0.020672595128417015, -0.02664734236896038, 0.015318970195949078, -0.03216947987675667, 0.0019296996761113405, -0.03514206036925316, -0.005228267051279545, 0.01836291328072548, -0.002084958367049694, -0.04622354730963707, -0.017631344497203827, 0.0022581913508474827, 0.019289745017886162, 0.013140919618308544, 0.04229510948061943, 0.0014354106970131397, 0.026026150211691856, -0.030562343075871468, 0.008683856576681137, -0.0192586500197649, -0.04048500210046768, -0.02592935599386692, 0.0058336928486824036, -0.04383523762226105, 0.005765692796558142, -0.005985702387988567, 0.015790468081831932, -0.054190002381801605, -0.012929191812872887, -0.01666930317878723, -0.0625363290309906, -0.01266106590628624, 0.05800353363156319, 0.005526423919945955, 0.02641051821410656, -0.0680374950170517, 0.011798052117228508, 0.014165629632771015, 0.032820217311382294, -0.013740305788815022, -0.06063292175531387, 0.011579522863030434, -0.09349345415830612, -0.010122919455170631, -0.01295936107635498, -0.03801318258047104, 0.04972638934850693, -0.0073082768358290195, -0.01712591014802456, -0.033778730779886246, 0.008990831673145294, -0.0035127850715070963, -0.04913528636097908, -0.018841680139303207, 0.002661636797711253, 0.0006215994944795966, 0.01950462907552719, -0.029012776911258698, -0.09625425934791565, -0.04093371331691742, 0.023345032706856728, -0.06534043699502945, -0.006116239354014397, 0.02239062637090683, 0.041326187551021576, 0.020334452390670776, -0.024783391505479813, 0.001073356717824936, -0.036620743572711945, -0.029574992135167122, 0.005824956111609936, 0.017017275094985962, 0.01191783882677555, 0.01827409490942955, 0.037142761051654816, 0.008255391381680965, -0.04286191612482071, 0.02659078873693943, -0.027813605964183807, -0.0388147309422493, 0.021680781617760658, -0.024121711030602455, 0.0019480569753795862, 0.014880095608532429, 0.05954127013683319, 0.0321892574429512, -0.026497185230255127, 0.03377168998122215, -0.07394115626811981, -0.006666611414402723, 0.04366905987262726, -0.0045927525497972965, -0.03975355997681618, -0.0008693537092767656, -0.013409876264631748, -0.04790019989013672, -0.013488193973898888, 0.002642252715304494, 0.01646040566265583, -0.02895827405154705, 0.054579704999923706, 0.020764287561178207, 0.0224178247153759, -0.04800327122211456, -0.003055374836549163, 0.027294324710965157, 0.01849283091723919, 0.03566699102520943, -0.0513952262699604, 0.003930830396711826, 0.001937557477504015, -0.08751814812421799, -0.0060930075123906136, -0.0044111874885857105, 0.018194742500782013, 0.053006432950496674, 0.0366387665271759, 0.06751815229654312, -0.042233433574438095, -0.05267597734928131, -0.016981521621346474, 0.04528653621673584, -0.006144488696008921, 0.027146710082888603, -0.04508201405405998, -0.0029894153121858835, -0.0019684461876749992, -0.030413297936320305, 0.0006991027039475739, 0.02998032234609127, -0.017145918682217598, -0.011411485262215137, -0.005335233639925718, 0.01842441037297249, -0.06924241036176682, -0.10887166857719421, 0.012673362158238888, 0.04547607898712158, 0.07867992669343948, 0.01050560176372528, -0.008329487405717373, -0.00431395135819912, 0.003833725117146969, 0.06599199026823044, -0.011393299326300621, 0.019372165203094482, -0.06462490558624268, 0.04784783720970154, 0.013755163177847862, 0.032942336052656174, 0.06014150381088257, 0.00910423044115305, -0.011014613322913647, 0.025921020656824112, -0.043408703058958054, -0.01684533804655075, -0.0037471477407962084, -0.010386785492300987, -0.001815964700654149, 0.04105297848582268, -0.00410435302183032, 0.051909200847148895, -0.0366009883582592, 0.036204446107149124, 0.05945359170436859, -0.06462724506855011, 0.05525480955839157, 0.013889618217945099, 0.009955878369510174, 0.049190714955329895, -0.060397371649742126, 0.027419382706284523, -0.0020669784862548113, -0.05562032759189606, 0.06457147002220154, 0.03636659309267998, 0.004535323940217495, 0.01419132575392723, 0.00016934305313043296, -0.011426371522247791, -0.05591874569654465, 0.027727145701646805, -0.02644517831504345, 0.002807667711749673, -0.024004628881812096, -0.04428040236234665, 0.003356347093358636, 0.03649916872382164, -0.008739464916288853, 0.06461869925260544, 0.021428139880299568, -0.022573167458176613, 0.0653197318315506, 0.027553653344511986, 0.03912714123725891, -0.001218301011249423, -0.021155448630452156, 0.024746475741267204, -0.016479022800922394, 0.0411459282040596, -0.03107282519340515, 0.015430915169417858, -0.06727736443281174, 0.0504988394677639, -0.0014964895090088248, -0.01047614123672247, -0.0017916039796546102, -0.020186157897114754, -0.08437748998403549, -0.0056916470639407635, -0.05032037943601608, 0.014064136892557144, -0.0037341807037591934, 0.026556625962257385, -0.008514082990586758, 0.09183071553707123, 0.007544592954218388, 0.030384978279471397, 0.058128345757722855, -0.008607139810919762, 0.021573154255747795, -0.013689340092241764, -0.046162787824869156, 0.007616080343723297, 0.007855510339140892, -0.027304885908961296, 0.011463912203907967, -0.0013703342992812395, 0.038493748754262924, -0.016865020617842674, -0.08439188450574875, 0.006705795880407095, 0.033418919891119, 0.0037835240364074707, -0.030851619318127632, 0.017199832946062088, -0.002911908784881234, -0.019272634759545326, 0.009469118900597095, 0.02452465333044529, -0.035132087767124176, 0.0055321683175861835, -0.042960576713085175, -0.010471370071172714, -0.03724702075123787, -0.02984553389251232, -0.061538632959127426, -0.03366609290242195, 0.01507601048797369, -0.07455138862133026, 0.022442208603024483, 0.000576151767745614, -0.011275402270257473, 0.017885703593492508, -0.011511593125760555, 0.01276644691824913, -0.006749131716787815, -0.0003624828241299838, 0.012242758646607399, 0.015713011845946312, -0.0044855400919914246, 0.011436650529503822, 0.02498028241097927, 0.06631328910589218, 0.04333038255572319, -0.07054468989372253, -0.014977894723415375, -0.008842557668685913, 0.043873269110918045, 0.034422099590301514, -0.024153798818588257, -0.06182374805212021, -0.04807005077600479, -0.03598519787192345, -0.018636735156178474, 0.02650544047355652, -0.0035641922149807215, 0.04137692227959633, -0.011197934858500957, -0.023149803280830383, -0.046134959906339645, -0.02861964702606201, -0.033142004162073135, 0.015295206569135189, -0.04337523505091667, -0.0493670292198658, -0.0052363695576786995, 0.004725033417344093, -5.335184618666438e-33, 0.009549149312078953, -0.00691547617316246, -0.0034054049756377935, -0.05305476859211922, 0.009421564638614655, 0.014696796424686909, 0.0007827182416804135, -0.06024369224905968, -0.01959754154086113, -0.014956819824874401, 0.0108861792832613, 0.0015664439415559173, 0.015497403219342232, -0.01563664712011814, -0.04250730201601982, -0.031047960743308067, 0.015344531275331974, -0.02929110825061798, -0.0118992505595088, -0.06970837712287903, -0.004482280928641558, -0.003989373333752155, 0.022586993873119354, -0.09138669818639755, -0.001589783001691103, 0.001131031778641045, 0.005644070450216532, 0.052239056676626205, 0.019187504425644875, -0.007906964048743248, 0.0142785320058465, -0.03318490460515022, 0.029929891228675842, 0.06347054988145828, -0.0025008947122842073, -0.07368315756320953, -0.03509072586894035, -0.034184060990810394, -0.013077742420136929, 0.00649982551112771, 0.023014605045318604, 0.015905367210507393, -0.0009513236582279205, 0.006631617899984121, -0.00031635144841857255, 0.03224501013755798, -0.010713799856603146, -0.014411594718694687, -0.013387022539973259, 0.046983856707811356, 0.03190814331173897, -0.0013855916913598776, 0.008474181406199932, 0.07966431975364685, -0.036182988435029984, 0.07765863835811615, 0.04335911199450493, -0.05392742156982422, -0.04497058317065239, -0.04701656475663185, 0.08058810979127884, -0.017910458147525787, 0.012807495892047882, -0.03306388854980469, 0.023270606994628906, -0.00424157315865159, -0.06993474066257477, 0.055490922182798386, -0.004340921528637409, -0.04275194928050041, 0.029146432876586914, -0.04484524950385094, -0.046203210949897766, -0.0059584504924714565, 0.006192896515130997, -0.041621431708335876, 0.00017260752792935818, 0.03902653604745865, 0.04550793021917343, 0.001393940532580018, -0.002044535940513015, -0.0437510646879673, -0.09482564777135849, -0.006707438733428717, 0.01084885559976101, 0.05406245216727257, -0.034786734730005264, -0.06463847309350967, 0.020339971408247948, 0.022534344345331192, -0.017485013231635094, 0.03758162260055542, -0.057941734790802, 0.01877986080944538, -0.046289511024951935, -0.04893362522125244, 0.051122188568115234, -0.01186501793563366, 0.01834072358906269, -0.004852691665291786, -0.03711547330021858, -0.020342577248811722, 0.062169574201107025, 0.0471293069422245, 0.01725987158715725, -0.005950283259153366, -0.006028402131050825, 0.048608556389808655, -0.03008911944925785, 0.0264993105083704, 0.02623906545341015, 0.015825852751731873, 0.04077422246336937, -0.03720676898956299, -0.0005038561066612601, 0.041467517614364624, 0.0011281315237283707, 0.03565482050180435, -0.010737371630966663, -0.01722201704978943, -0.020204907283186913, 0.008691631257534027, 0.04474998638033867, -0.033803701400756836, 0.05837593600153923, -0.05055472254753113, 0.009389452636241913, 0.022802844643592834, 0.07031010091304779, 0.011764820665121078, 0.005339106544852257, -0.00048620018060319126, 2.1935954919172218e-07, 0.010254980996251106, 0.07780805230140686, -0.0010978186037391424, 0.021982334554195404, -0.02496095560491085, -0.07551631331443787, -0.046587079763412476, -0.006102004554122686, -0.00976688414812088, 0.030447470024228096, 0.054487720131874084, -0.009574244730174541, 0.0038739917799830437, 0.018121927976608276, 0.005947631783783436, -0.10484621673822403, 0.06078062951564789, -0.027411911636590958, -0.04361146315932274, -0.04016277194023132, -0.0015482660382986069, 0.0034374126698821783, 0.017608072608709335, -0.023761868476867676, 0.028616154566407204, -0.033091913908720016, -0.022864334285259247, -0.043501123785972595, -0.026590850204229355, -0.005648961756378412, 0.1375938206911087, 0.05727897584438324, 0.022505685687065125, -0.02457406185567379, -0.009861026890575886, -0.012472542934119701, -0.04701036959886551, 0.0027708110865205526, 0.002437181770801544, 0.012718595564365387, 0.00807866733521223, -0.03610171750187874, -0.010513557121157646, -0.04048090800642967, -0.0024584841448813677, 0.06388785690069199, 0.03996741399168968, 0.08305760473012924, -0.05752665922045708, 0.03251570835709572, 0.011927109211683273, -0.018297303467988968, 0.0017624743049964309, -0.004450682550668716, 0.002117107156664133, 0.01656428538262844, 0.023024676367640495, 0.05240533500909805, 0.0629223957657814, 0.003287291619926691, -0.009250123053789139, -0.031766630709171295, -0.014998522587120533, 0.05149085447192192, 0.024438664317131042, -0.0629751980304718, 0.04470137506723404, 2.090339359739041e-34, -0.010926950722932816, -0.005190062802284956, 0.0059409672394394875, -0.032160088419914246, 0.01091714110225439, -0.006755360867828131, 0.12468724697828293, 0.008496461436152458, -0.02555469609797001, -0.006417187862098217, -0.014336221851408482]\n"
          ]
        }
      ]
    },
    {
      "cell_type": "markdown",
      "source": [
        "# Writer (Load Embeddings)"
      ],
      "metadata": {
        "id": "UdM8Vl3kX25M"
      }
    },
    {
      "cell_type": "code",
      "source": [
        "document_writer = DocumentWriter(document_store = document_store)\n",
        "document_writer.run(documents=result['documents'])"
      ],
      "metadata": {
        "colab": {
          "base_uri": "https://localhost:8080/"
        },
        "id": "yJ_3epdGX13_",
        "outputId": "535663a9-e02c-4262-8f37-4da5b7fedaf9"
      },
      "execution_count": null,
      "outputs": [
        {
          "output_type": "execute_result",
          "data": {
            "text/plain": [
              "{'documents_written': 10}"
            ]
          },
          "metadata": {},
          "execution_count": 16
        }
      ]
    },
    {
      "cell_type": "markdown",
      "source": [
        "# **Querying**"
      ],
      "metadata": {
        "id": "R9Fghs2OYr74"
      }
    },
    {
      "cell_type": "code",
      "source": [
        "# Query and Query embeddings\n",
        "text_embedder = SentenceTransformersTextEmbedder()\n",
        "text_embedder.warm_up()\n",
        "\n",
        "query=\"How do I change my password\"\n",
        "query_embedding=text_embedder.run(query)\n",
        "\n",
        "print(query)\n",
        "print(query_embedding['embedding'])"
      ],
      "metadata": {
        "colab": {
          "base_uri": "https://localhost:8080/",
          "height": 105,
          "referenced_widgets": [
            "44d30c6a5d3343f8b15a5f7183dbd51a",
            "3603e2c3916142869a9143e6690e2be4",
            "60981522e0664d72a553c6394b8cf538",
            "c205015129634b7ab7e0036ea5ed9311",
            "19831321ae914d00b5dc4212597f1aa3",
            "b15847b4254546cd863b718371c2f92e",
            "3556f3310bd84ebf890afd71d51332f5",
            "1c0b70d481994764a2556a0ac0c3312f",
            "46dffa5905e146e4aaa0ed4e7d176baf",
            "28249b747c444a8e8ef5f9cb6cf8a1e6",
            "50992d7e53cf48f0811525087c750cbe"
          ]
        },
        "id": "2B8NZxdYddP0",
        "outputId": "1f4b8b82-cf3a-4850-8226-7fe160a4af2f"
      },
      "execution_count": null,
      "outputs": [
        {
          "output_type": "display_data",
          "data": {
            "text/plain": [
              "Batches:   0%|          | 0/1 [00:00<?, ?it/s]"
            ],
            "application/vnd.jupyter.widget-view+json": {
              "version_major": 2,
              "version_minor": 0,
              "model_id": "44d30c6a5d3343f8b15a5f7183dbd51a"
            }
          },
          "metadata": {}
        },
        {
          "output_type": "stream",
          "name": "stdout",
          "text": [
            "How do I change my password\n",
            "[-0.025806577876210213, -0.02617955021560192, 0.013890509493649006, 0.060708411037921906, -0.0042159948498010635, 0.003371739061549306, -0.00877077504992485, -0.010790486820042133, 0.011666130274534225, -0.014651144854724407, -0.025269413366913795, -0.03953014686703682, 0.08010268956422806, -0.011932416819036007, 0.028325509279966354, 0.019653167575597763, -0.03136264905333519, -0.04445323720574379, 0.0028921181801706553, -0.007115676533430815, 0.0024020096752792597, -0.0022795761469751596, -0.0428677462041378, 8.681674444233067e-06, -0.009755945764482021, 0.0006160380435176194, 0.039631132036447525, -0.006261938717216253, 0.06090069189667702, 0.015706704929471016, -0.0015388855244964361, 0.022637177258729935, -0.009640956297516823, 0.009830606169998646, 1.1718690302586765e-06, -0.027188662439584732, -0.01784571260213852, -0.0016574900364503264, 0.0037313136272132397, 0.023208845406770706, 0.0015517588471993804, -0.013476280495524406, 0.0004424373328220099, 0.015015292912721634, 0.02570594847202301, 0.024723408743739128, -0.010100804269313812, 0.0706423744559288, 0.03208017721772194, 0.03612669184803963, -0.02420842833817005, -0.053956691175699234, 0.0030697027686983347, -0.05611731857061386, 0.019665652886033058, -0.04072887822985649, 0.024420976638793945, 0.039744287729263306, 0.0019028130918741226, 0.01803838089108467, -0.04974333941936493, -0.04542811959981918, -0.02098163031041622, -0.029761098325252533, 0.04914335533976555, 0.032098181545734406, -0.011881410144269466, 0.019559646025300026, 0.03533590957522392, 0.016838811337947845, -0.036914926022291183, 0.017640670761466026, 0.0009705728152766824, 0.02713625878095627, 0.0319315567612648, 0.03830340504646301, 0.04555562883615494, -0.024374721571803093, -0.03833334892988205, -0.06427530944347382, -0.0423169881105423, -0.05241379141807556, 0.00638292683288455, -0.01831340603530407, -0.005040174815803766, -0.015275421552360058, 0.05354640632867813, -0.0019189896993339062, -0.009671892039477825, -0.08213311433792114, 0.03248103708028793, -0.015715492889285088, -0.007158538792282343, 0.01901380904018879, -0.0032645498868077993, 0.01498421747237444, 0.008740995079278946, 0.00712096830829978, -0.00963186752051115, -0.027330882847309113, 0.0416768416762352, -0.023449992761015892, 0.007907168008387089, -0.025583630427718163, 0.029766006395220757, -0.006606141570955515, 0.04974152520298958, -0.006951346527785063, -0.009151163510978222, 0.03544474393129349, 0.018972188234329224, 0.0031750404741615057, 0.006945723667740822, -0.1073802039027214, 0.0371272973716259, -0.005756147671490908, 0.008834323845803738, 0.05023700371384621, 0.07181722670793533, -0.012402624823153019, 0.015579666942358017, -0.08107176423072815, 0.018965253606438637, -0.02274872548878193, -0.021310389041900635, 0.019170064479112625, -0.029933050274848938, -0.00730125280097127, -0.030526435002684593, -0.011704212054610252, -0.022703304886817932, 0.00199848972260952, 0.004289396107196808, -0.0316796600818634, 0.02599366009235382, 0.023640461266040802, -0.01145566813647747, 0.06690528243780136, 2.8410022423486225e-05, 0.012600884772837162, -0.0012951878597959876, 0.011581901460886002, -0.016653675585985184, -0.015380477532744408, 0.039400920271873474, -0.0295767430216074, -0.005761560518294573, -0.016100995242595673, -0.0017978404648602009, -0.017167283222079277, -0.08645568042993546, -0.012206532061100006, 0.014347899705171585, -0.011949224397540092, 0.07113632559776306, -0.04461095482110977, 0.014989049173891544, -0.02810925990343094, -0.04200902208685875, 0.047307759523391724, 0.02573518268764019, 0.018950944766402245, 0.03313491865992546, -0.015571110881865025, -0.05219309404492378, -0.012591565027832985, 0.014334338717162609, -0.02428099513053894, 0.0009232653537765145, -0.011086976155638695, 0.0332169346511364, 0.05418679490685463, -0.027961628511548042, 0.046530403196811676, 0.0995338037610054, 0.003720927517861128, 0.02867184393107891, -0.03138788789510727, -0.04608111083507538, -0.08677712827920914, -0.00615701824426651, -0.05511029064655304, 0.04304471239447594, -0.045752327889204025, 0.004574834369122982, 0.057929374277591705, 0.027306046336889267, -0.00838060025125742, 0.06000902131199837, 0.00666833994910121, -0.021486373618245125, -0.011670068837702274, 0.001430035918019712, 0.013163399882614613, -0.07010073959827423, -0.005250419024378061, 0.03278088569641113, 0.03525875136256218, 0.013501456007361412, 0.04464211314916611, -0.020764824002981186, -0.06808111071586609, 0.026497673243284225, 0.026696985587477684, -0.0764065533876419, -0.025162875652313232, 0.08654114603996277, 0.011778944171965122, 0.05857200548052788, 0.00989441853016615, 0.014710073359310627, 0.06818386912345886, 0.006698590703308582, -0.04456019774079323, 0.0535244457423687, 0.003980197478085756, -0.0025968672707676888, 0.03214115649461746, -0.010742324404418468, -0.08291845768690109, 0.005236110650002956, 0.025610530748963356, -0.02405000850558281, 0.08539937436580658, -0.026803402230143547, -0.014199343509972095, 0.03270729258656502, -0.06815290451049805, -0.029390394687652588, -0.023735417053103447, 0.017335936427116394, 0.0027021924033761024, -0.016720743849873543, 0.0004534866602625698, -0.01329710055142641, -0.010036705061793327, -0.008785448037087917, -0.06746513396501541, -0.03937254101037979, -0.06945469975471497, -0.016091054305434227, -0.002744764555245638, -0.018253428861498833, 0.0459316112101078, 0.08352944254875183, -0.06106889992952347, 0.014933493919670582, 0.00039609454688616097, 0.03630385920405388, -0.056495022028684616, -0.014672611840069294, 0.007327384315431118, 0.02295234613120556, -0.026938926428556442, -0.034895673394203186, -0.05432678759098053, -0.05181215703487396, -0.0380958653986454, -0.02402319945394993, 0.008243957534432411, 0.03958382457494736, 0.06631933897733688, -0.007065092213451862, 0.0491870641708374, 0.008860336616635323, -0.018025988712906837, 0.012129723094403744, 0.08009235560894012, -0.027903232723474503, -0.00886471662670374, 0.002941868733614683, 0.06918580085039139, -0.02009177953004837, -0.011254792101681232, 0.032216742634773254, -0.06078623980283737, -0.035443633794784546, -0.12513414025306702, 0.032268721610307693, 0.008704490028321743, -0.014191055670380592, -0.0055129979737102985, 0.003070761216804385, -0.03366895392537117, 0.020715974271297455, -0.007954435423016548, -0.07956121861934662, -0.01976342499256134, -0.031845323741436005, -0.044569797813892365, 0.03198162838816643, -0.023913750424981117, -0.014587802812457085, -0.041927509009838104, -0.03618237003684044, 0.00210253382101655, 0.047369297593832016, -0.056652702391147614, 0.003221104620024562, 0.09131279587745667, 0.07178052514791489, -0.016163377091288567, 0.05488000065088272, -0.03290322422981262, 0.03753092885017395, -0.004580828361213207, 0.02583489567041397, -0.02064300701022148, 0.0024104693438857794, -0.0554036870598793, 0.09036590903997421, 0.07208779454231262, -0.014731807634234428, 0.027012407779693604, -0.02783140353858471, -0.034884706139564514, 0.01078080665320158, 0.0013295796234160662, -0.031545113772153854, -0.04073505103588104, 0.003307168837636709, -0.01121505443006754, -0.011873173527419567, -0.011587364599108696, 0.01904994063079357, -0.045456819236278534, -0.04692504554986954, 0.012743152678012848, -0.025515813380479813, 0.04546235874295235, -0.021574841812253, 0.012362475506961346, 0.02075278013944626, 0.06617570668458939, 0.02165026031434536, -0.011271498166024685, -0.014110494405031204, -0.04647082835435867, 0.005306820385158062, -0.013082959689199924, 0.04659031331539154, 0.040128231048583984, 0.06684491783380508, 0.03688075393438339, -0.06171756237745285, -0.012165307067334652, -0.03988083451986313, -0.05718068405985832, 0.016027655452489853, -0.049649789929389954, 0.012353839352726936, 0.03613350912928581, -0.0582074336707592, 0.02148686721920967, 0.04545482248067856, -0.029833097010850906, 0.07112497091293335, 0.05145875737071037, -0.02669895626604557, 0.031034180894494057, 0.04420027136802673, 0.006626522168517113, 0.016196047887206078, -0.03628462180495262, -0.02790917456150055, -0.037880364805459976, -0.03429613634943962, -0.06538652628660202, -0.00154634949285537, -0.009725118055939674, -0.01769433170557022, -0.00027225210214965045, 0.02025570347905159, -0.025390367954969406, -0.01484629325568676, 0.023657673969864845, 0.049230094999074936, 0.01762882061302662, -0.05035728961229324, -0.007523784413933754, -0.06739789247512817, 0.017433106899261475, -0.04315439984202385, 0.03385141119360924, 0.03770243749022484, -0.005081620533019304, 0.04724963754415512, -0.03328612819314003, 0.01786840707063675, -0.07496420294046402, -0.0019507234683260322, 0.011927288956940174, -0.026853036135435104, 0.01307698991149664, 0.021190468221902847, -0.05173821374773979, 0.03235051780939102, -0.0438646636903286, 0.020740164443850517, -0.026293687522411346, -0.03324075788259506, -0.023491764441132545, 0.030115509405732155, 0.0003782962157856673, -0.006485283840447664, -0.005288285668939352, 0.03655324876308441, -0.04085078835487366, -0.003230297239497304, -0.026574939489364624, 0.04295947775244713, -0.048034217208623886, 0.03947606682777405, -0.0180297140032053, -0.0482180155813694, -0.020106447860598564, 0.002151490654796362, 0.034848902374506, 0.08094756305217743, -0.014299075119197369, -0.07891792804002762, 0.040097933262586594, 0.016853470355272293, 0.026123834773898125, 0.05617231875658035, -0.006989406421780586, 0.022373681887984276, -0.030615249648690224, 0.027252033352851868, -0.012396911159157753, -0.0030256002210080624, 0.0238298699259758, -0.05341552570462227, -0.06002436950802803, 0.048459216952323914, -0.05930008366703987, -0.019164664670825005, 0.018836036324501038, 0.012957422994077206, -0.06228703632950783, 0.08761174231767654, -0.07197639346122742, -0.06508074700832367, -0.02161983959376812, -0.017666153609752655, 0.022314107045531273, -0.0037068508099764585, 0.009803088381886482, -0.02820732071995735, -1.2733412404486444e-05, 0.010584675706923008, 0.009896359406411648, -0.00442842859774828, -0.05505732446908951, -0.01639123074710369, -0.021942637860774994, 0.02623469941318035, 0.007501362357288599, -0.05237561836838722, 0.03977911174297333, 0.01179010421037674, -0.005431637167930603, -0.03691442683339119, -0.016558563336730003, -0.05214716121554375, 0.0620717853307724, 0.04909064993262291, -0.0483187660574913, 0.0008531002094969153, -0.004308678209781647, -0.052317965775728226, 0.013190235011279583, -0.030866792425513268, 0.02482563816010952, -0.01775716058909893, 0.0137697234749794, 0.015365677885711193, -0.042513493448495865, 0.004351357463747263, -0.029288453981280327, -0.014351889491081238, -0.05114517733454704, 0.015173181891441345, -0.04896455258131027, 0.034063346683979034, 0.038068316876888275, -0.04594479501247406, -0.013628718443214893, 0.026411600410938263, 0.007684245239943266, 0.047670722007751465, 0.004334210883826017, -0.0461554117500782, -0.015980083495378494, 0.009096368215978146, 0.01796783320605755, 0.006435069255530834, 0.00147367047611624, 0.06188599765300751, -0.02298697829246521, -0.007731943391263485, 0.03503837808966637, -0.020646223798394203, -0.009353677742183208, -0.027741556987166405, -0.044079799205064774, 0.0009737094515003264, 0.06733313947916031, -0.04749109596014023, -0.017803728580474854, -0.028360161930322647, 0.059589169919490814, -0.05331026017665863, -0.005991315469145775, 0.05052701011300087, 0.022313648834824562, -0.01038561761379242, -0.07839491218328476, -0.016664056107401848, -0.01849430613219738, -0.0353713296353817, 0.002376118442043662, -0.007503835950046778, 0.05147413909435272, -0.022212857380509377, -0.02567061223089695, 0.028993863612413406, -0.009071358479559422, 0.020569127053022385, -0.00421504583209753, -0.01681520789861679, 0.035774923861026764, 0.02496223710477352, 0.008172511123120785, 0.003870429703965783, 0.0018186416709795594, -0.028663422912359238, 0.023089660331606865, -0.04621464014053345, -0.020656632259488106, -0.001424352522008121, 0.021611448377370834, -0.02008754573762417, 0.052329715341329575, -0.0013433686690405011, -0.015311195515096188, 0.02610865980386734, -0.03210390731692314, -0.04074347764253616, -0.0066901203244924545, 0.01949806697666645, 0.059257522225379944, -0.009690924547612667, 0.006991542410105467, 0.02768751233816147, -3.1350217604659475e-33, 0.03426411747932434, 0.014469684101641178, -0.00671739224344492, 0.05500390753149986, 0.03010611981153488, -0.01295851357281208, 0.05269840732216835, 0.059208016842603683, -0.05286254733800888, 0.042368873953819275, 0.0010282237781211734, -0.007477592211216688, -0.009561073035001755, -0.03592407703399658, -0.02688697725534439, -0.004385149106383324, 0.012888817116618156, 0.021663838997483253, 0.044633764773607254, -0.056822873651981354, 0.004533924162387848, 0.05458003282546997, 0.04317145049571991, 0.04036964476108551, -0.0015856523532420397, 0.01295053493231535, -0.022215168923139572, 0.02123553305864334, 0.010669899173080921, 0.05060918256640434, -0.039688609540462494, 0.05385158583521843, -0.026670275256037712, -0.04620179161429405, -0.0027397447265684605, 0.05282401666045189, -0.02603997103869915, 0.007580885197967291, 0.05764148756861687, 0.05305591598153114, -0.0017013635952025652, -0.0709562823176384, -0.053166862577199936, -0.018543701618909836, -0.027076905593276024, -0.040669266134500504, -0.03781149536371231, -0.05492345616221428, 0.011811128817498684, -0.08331193029880524, -0.03377190977334976, -0.022487936541438103, -0.0036089615896344185, -0.06295356154441833, -0.035613954067230225, -0.002473669359460473, -0.006830613128840923, -0.06373586505651474, 0.005822618491947651, 0.04961829259991646, 0.05228790268301964, -0.025141116231679916, -0.055933427065610886, 0.03775207698345184, -0.030010709539055824, 0.033131301403045654, -0.018893420696258545, -0.041704099625349045, 0.039126716554164886, 0.02179953269660473, -0.009455143474042416, -0.018320126459002495, 0.025318695232272148, -0.026094302535057068, 0.04184636473655701, 0.06109143793582916, -0.041409313678741455, -0.07679799944162369, 0.017547963187098503, 0.05570147559046745, 0.03546903282403946, 0.01801767386496067, 0.09853148460388184, 0.05979281663894653, -0.02400844544172287, -0.00025611440651118755, -0.06199783459305763, 0.003276161616668105, -0.012626823969185352, -0.0611821711063385, -0.014714466407895088, 0.011350066401064396, -0.07841125875711441, 0.0050694579258561134, 0.023717125877738, -0.017280669882893562, -0.0440613217651844, -0.06577525287866592, 0.004342491738498211, -0.0030733731109648943, 0.04124107584357262, 0.003106179414317012, 0.05741969496011734, 0.031707700341939926, 0.014920921996235847, -0.005229180678725243, 0.05968550965189934, -0.026701588183641434, 0.039846520870923996, -0.021220702677965164, 0.007512375712394714, -0.05630245804786682, 0.04224225506186485, 0.05454332008957863, -0.020099634304642677, 0.022647717967629433, -0.027159756049513817, 0.013662057928740978, 0.009934739209711552, -0.032317567616701126, 0.02349853701889515, 0.055387794971466064, -0.019913259893655777, 0.01861761324107647, 0.05809791013598442, -0.00584450364112854, 0.02287893183529377, 0.03352170065045357, 0.037778340280056, 0.010960474610328674, 0.024709226563572884, 0.045145437121391296, 1.7003995367304015e-07, 0.02535397931933403, 0.012762479484081268, 0.011784222908318043, 0.02202412858605385, -0.028069045394659042, 0.013717150315642357, 0.02290431037545204, 0.03988278657197952, 0.00798507034778595, -0.010495239868760109, 0.01978793926537037, 0.027534423395991325, -0.06493993103504181, -0.06706468015909195, -0.019810140132904053, -0.020365774631500244, -0.002869886811822653, 0.051228538155555725, -0.005456024780869484, 0.001482540275901556, 0.024862661957740784, -0.0051645198836922646, 0.02457270212471485, -0.010138890706002712, -0.03305625915527344, 0.006539114285260439, -0.05613076314330101, -0.010060588829219341, 0.02120230346918106, -0.015463276766240597, 0.012028376571834087, 0.0028760619461536407, 0.018612602725625038, -0.01600067876279354, 0.020492808893322945, -0.019319796934723854, 0.001647879253141582, -0.016689296811819077, 0.012422694824635983, 0.0101622911170125, 0.03860970214009285, 0.03491031378507614, -0.020206883549690247, 0.054393570870161057, 0.027617275714874268, 0.11480903625488281, -0.007259902078658342, -0.00212057470344007, 0.07035025209188461, -0.007826508022844791, 0.06369265168905258, -0.056483615189790726, -0.00502081960439682, 0.04109269008040428, 0.08744323253631592, 0.08784311264753342, -0.0003183711087331176, 0.06424105167388916, -0.02469579689204693, -0.012885031290352345, -0.032033465802669525, -0.026273731142282486, -0.0035884708631783724, 0.01634261943399906, -0.025827566161751747, 0.012544133700430393, 0.009386355988681316, 2.43769557994779e-36, 0.030486084520816803, -0.024811243638396263, -0.037670865654945374, 0.03886456787586212, 0.021138301119208336, 0.047396887093782425, 0.06313934922218323, 0.03599489852786064, -0.018041329458355904, -0.024045677855610847, -0.012060309760272503]\n"
          ]
        }
      ]
    },
    {
      "cell_type": "markdown",
      "source": [
        "### Retriever"
      ],
      "metadata": {
        "id": "9AJuFxQ4ZfsY"
      }
    },
    {
      "cell_type": "code",
      "source": [
        "# Vector Search\n",
        "embedding_retriever = InMemoryEmbeddingRetriever(document_store)\n",
        "\n",
        "# Keyword Search\n",
        "bm25_retriever = InMemoryBM25Retriever(document_store)"
      ],
      "metadata": {
        "id": "An-iBDqCZQHC"
      },
      "execution_count": null,
      "outputs": []
    },
    {
      "cell_type": "code",
      "source": [
        "retrieved_result=embedding_retriever.run(query_embedding['embedding'])\n",
        "print(retrieved_result['documents'][0].content)\n",
        "\n",
        "retrieved_result=bm25_retriever.run(query)\n",
        "print(retrieved_result['documents'][0].content)"
      ],
      "metadata": {
        "colab": {
          "base_uri": "https://localhost:8080/"
        },
        "id": "Xuacd3Qmfbzv",
        "outputId": "0d18aeeb-db7a-4251-c121-c29589c8cf05"
      },
      "execution_count": null,
      "outputs": [
        {
          "output_type": "stream",
          "name": "stdout",
          "text": [
            "3. Change Password: Go to the \"Account Settings\" section and change your temporary password to a new, secure one.\n",
            "\n",
            "\n",
            "3. Change Password: Go to the \"Account Settings\" section and change your temporary password to a new, secure one.\n",
            "\n",
            "\n"
          ]
        }
      ]
    },
    {
      "cell_type": "markdown",
      "source": [
        "### Document Joiner (For Hybrid Retrieval)\n",
        "Not used in this demo."
      ],
      "metadata": {
        "id": "HeEC9l3gb0dg"
      }
    },
    {
      "cell_type": "code",
      "source": [
        "# from haystack.components.joiners import DocumentJoiner\n",
        "\n",
        "# document_joiner = DocumentJoiner()"
      ],
      "metadata": {
        "id": "8RZGfa0Jby9g"
      },
      "execution_count": null,
      "outputs": []
    },
    {
      "cell_type": "markdown",
      "source": [
        "### Prompt Builder"
      ],
      "metadata": {
        "id": "xaJWEvhNjZK6"
      }
    },
    {
      "cell_type": "code",
      "source": [
        "prompt_template = \"Answer the query '{{ query }}' using the following contextContext: {{ context }}; Answer:\"\n",
        "builder = PromptBuilder(template=prompt_template)\n",
        "input=builder.run(query=query, context=retrieved_result['documents'][0].content)\n",
        "print(input)"
      ],
      "metadata": {
        "colab": {
          "base_uri": "https://localhost:8080/"
        },
        "id": "pzy1rAR3jYVv",
        "outputId": "8b8e0c19-64f0-413c-c171-3506f85517f4"
      },
      "execution_count": null,
      "outputs": [
        {
          "output_type": "stream",
          "name": "stdout",
          "text": [
            "{'prompt': 'Answer the query \\'How do I change my password\\' using the following contextContext: 3. Change Password: Go to the \"Account Settings\" section and change your temporary password to a new, secure one.\\n\\n; Answer:'}\n"
          ]
        }
      ]
    },
    {
      "cell_type": "code",
      "source": [
        "llm = OpenAIGenerator(\n",
        "        api_key=Secret.from_env_var(\"GROQ_OPENAI_API_KEY\"),\n",
        "        api_base_url=\"https://api.groq.com/openai/v1\",\n",
        "        model=\"llama3-8b-8192\",\n",
        "        generation_kwargs={\"temperature\": 0}\n",
        "    )"
      ],
      "metadata": {
        "id": "k_a0rahUdKf0"
      },
      "execution_count": null,
      "outputs": []
    },
    {
      "cell_type": "code",
      "source": [
        "response=llm.run(input['prompt'])\n",
        "print(response['replies'][0])"
      ],
      "metadata": {
        "colab": {
          "base_uri": "https://localhost:8080/"
        },
        "id": "eWeYsfSkk8mY",
        "outputId": "acf05563-00d9-4e1c-d37d-0c873c7d8df1"
      },
      "execution_count": null,
      "outputs": [
        {
          "output_type": "stream",
          "name": "stdout",
          "text": [
            "To change your password, follow these steps:\n",
            "\n",
            "Go to the \"Account Settings\" section.\n"
          ]
        }
      ]
    },
    {
      "cell_type": "markdown",
      "source": [
        "# RAG with 2 documents\n",
        "\n",
        "\n",
        "1.   Outdated Guide\n",
        "2.   Reference Material\n",
        "\n"
      ],
      "metadata": {
        "id": "Du099Ihc4fzJ"
      }
    },
    {
      "cell_type": "code",
      "source": [
        "document_store = InMemoryDocumentStore(embedding_similarity_function=\"cosine\")\n",
        "indexing_pipeline=Pipeline()\n",
        "indexing_pipeline.add_component(\"converter\", UnstructuredFileConverter())\n",
        "indexing_pipeline.add_component(\"splitter\", DocumentSplitter(split_by=\"passage\", split_length=1, split_overlap=0))\n",
        "indexing_pipeline.add_component(\"embedder\", SentenceTransformersDocumentEmbedder())\n",
        "indexing_pipeline.add_component(\"writer\", DocumentWriter(document_store=document_store))\n",
        "indexing_pipeline.connect(\"converter\", \"splitter\")\n",
        "indexing_pipeline.connect(\"splitter\", \"embedder\")\n",
        "indexing_pipeline.connect(\"embedder\", \"writer\")\n",
        "indexing_pipeline.run({\"converter\": {\"paths\": [\"demo_guide.pdf\", \"demo_reference.pdf\"]}})\n",
        "\n",
        "query_pipeline=Pipeline()\n",
        "query_pipeline.add_component(\"text_embedder\", SentenceTransformersTextEmbedder())\n",
        "query_pipeline.add_component(\"embedding_retriever\", InMemoryEmbeddingRetriever(document_store))\n",
        "query_pipeline.add_component(\"bm25_retriever\", InMemoryBM25Retriever(document_store))\n",
        "query_pipeline.add_component(\"document_joiner\", DocumentJoiner(join_mode=\"merge\"))\n",
        "query_pipeline.connect(\"text_embedder\", \"embedding_retriever\")\n",
        "query_pipeline.connect(\"bm25_retriever\", \"document_joiner\")\n",
        "query_pipeline.connect(\"embedding_retriever\", \"document_joiner\")\n",
        "\n",
        "query = \"How do I access the project management system\"\n",
        "\n",
        "result = query_pipeline.run(\n",
        "    {\"text_embedder\": {\"text\": query}, \"bm25_retriever\": {\"query\": query}}\n",
        ")"
      ],
      "metadata": {
        "colab": {
          "base_uri": "https://localhost:8080/",
          "height": 99,
          "referenced_widgets": [
            "56a456d8467247e68d21293cdf2e326e",
            "7a9ff9ad02b141df9ae6d33aaafcbb26",
            "57716bf963f340aa99c7db6a6fbd778c",
            "5a89ba46900144889e91afc1054cc743",
            "98c1edf5c5324452911eb5a90fbe230f",
            "71ed3b3d7f064c22b26582f26d5c621f",
            "c460c611cbd5493e856e7baf5cb03c21",
            "96a3d4340666445fb91d4816ed2ed99f",
            "1fe44a3fb6c04dfabcef81db19f84038",
            "16f5a8c8d31f419fa3f2c8aaaddc01b1",
            "e159224d451a422eabb3a3c36ddd1cff",
            "3437986a80ff43dbb1ec509a9c9bed68",
            "8a39942db6bf40a0b4e9a5c069d36ec7",
            "d86cec13491347b3ba48ed670e9601d0",
            "acbdb22bc34946219ffaa0e5f062ed9b",
            "8881252281274b95acfb83d29b5be9fa",
            "dcf22fe23df8410b9a5ecff7120c8575",
            "5c9fd72224b54f5f97a7119aa91cb795",
            "2c8b936204da48229d2361bd41f0a1b8",
            "b2aecd7280fa421aa69341106396c02b",
            "52ce11d495c54504a8ffa11431ea1e87",
            "e6414f90ee7c4684bda1a626cb6c10fb"
          ]
        },
        "id": "qFWunLxe40et",
        "outputId": "e407a01f-2302-49f0-dfa2-3652f573dd97"
      },
      "execution_count": null,
      "outputs": [
        {
          "output_type": "stream",
          "name": "stderr",
          "text": [
            "Converting files to Haystack Documents: 2it [00:06,  3.15s/it]\n"
          ]
        },
        {
          "output_type": "display_data",
          "data": {
            "text/plain": [
              "Batches:   0%|          | 0/1 [00:00<?, ?it/s]"
            ],
            "application/vnd.jupyter.widget-view+json": {
              "version_major": 2,
              "version_minor": 0,
              "model_id": "56a456d8467247e68d21293cdf2e326e"
            }
          },
          "metadata": {}
        },
        {
          "output_type": "display_data",
          "data": {
            "text/plain": [
              "Batches:   0%|          | 0/1 [00:00<?, ?it/s]"
            ],
            "application/vnd.jupyter.widget-view+json": {
              "version_major": 2,
              "version_minor": 0,
              "model_id": "3437986a80ff43dbb1ec509a9c9bed68"
            }
          },
          "metadata": {}
        }
      ]
    },
    {
      "cell_type": "markdown",
      "source": [
        "The following context is retrieved from the query: \"How do I access the project management system\""
      ],
      "metadata": {
        "id": "lrNNy3oV0rFm"
      }
    },
    {
      "cell_type": "code",
      "source": [
        "print(result['document_joiner']['documents'][0].content)\n",
        "print(result['document_joiner']['documents'][1].content)\n",
        "print(result['document_joiner']['documents'][2].content)"
      ],
      "metadata": {
        "colab": {
          "base_uri": "https://localhost:8080/"
        },
        "id": "JDtmgX1Wy7N_",
        "outputId": "c61af965-1973-4ec3-d7e5-8fb58d755e19"
      },
      "execution_count": null,
      "outputs": [
        {
          "output_type": "stream",
          "name": "stdout",
          "text": [
            "• Access the New Portal: Open your web browser and navigate to www.newcompanyportal.com to access the updated project management system.\n",
            "\n",
            "\n",
            "www.oldcompanyportal.com to access the internal project management system. 2. Log In: Enter your username and temporary password sent to you via email. Click\n",
            "\n",
            "\n",
            "\"Login\" to access the system.\n",
            "\n",
            "\n"
          ]
        }
      ]
    }
  ]
}
