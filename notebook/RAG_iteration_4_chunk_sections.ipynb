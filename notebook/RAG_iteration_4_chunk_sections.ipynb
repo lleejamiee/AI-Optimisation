{
 "nbformat": 4,
 "nbformat_minor": 0,
 "metadata": {
  "colab": {
   "provenance": []
  },
  "kernelspec": {
   "name": "python3",
   "display_name": "Python 3"
  },
  "language_info": {
   "name": "python"
  }
 },
 "cells": [
  {
   "cell_type": "markdown",
   "source": [
    "# RAG"
   ],
   "metadata": {
    "id": "f0GP8LTms8S_"
   }
  },
  {
   "cell_type": "code",
   "execution_count": null,
   "metadata": {
    "collapsed": true,
    "id": "7Y3_BwQLu-qK"
   },
   "source": [
    "!pip install llama-index\n",
    "!pip install llama-parse\n",
    "!pip install torch transformers python-pptx Pillow\n",
    "!pip install llama-index-llms-groq\n",
    "!pip install llama-index-embeddings-huggingface\n",
    "!pip install python-docx\n",
    "!pip install llama-index-retrievers\n",
    "!pip install pyautogen\n",
    "!pip install groq\n",
    "!pip install llama-index-retrievers-bm25\n",
    "!pip install python-docx"
   ],
   "outputs": []
  },
  {
   "cell_type": "code",
   "execution_count": null,
   "metadata": {
    "id": "HP_f-yxtxH1m"
   },
   "source": [
    "from llama_index.core import Settings\n",
    "from llama_index.embeddings.huggingface import HuggingFaceEmbedding\n",
    "from llama_index.llms.groq import Groq\n",
    "import nest_asyncio\n",
    "from llama_parse import LlamaParse\n",
    "from llama_index.core import SimpleDirectoryReader\n",
    "from llama_index.core.node_parser import SentenceSplitter, SemanticSplitterNodeParser, LangchainNodeParser\n",
    "from llama_index.core import VectorStoreIndex\n",
    "\n",
    "from IPython.display import Markdown\n",
    "\n",
    "nest_asyncio.apply()"
   ],
   "outputs": []
  },
  {
   "cell_type": "code",
   "source": [
    "import os\n",
    "from google.colab import userdata\n",
    "\n",
    "LLAMA_CLOUD_API_KEY = userdata.get('LLAMA_CLOUD_API_KEY')\n",
    "GROQ_API_KEY = userdata.get('GROQ_API_KEY')\n",
    "\n",
    "os.environ['LLAMA_CLOUD_API_KEY'] = LLAMA_CLOUD_API_KEY\n",
    "os.environ['GROQ_API_KEY'] = GROQ_API_KEY"
   ],
   "metadata": {
    "id": "7VxvnJnTYydn"
   },
   "execution_count": null,
   "outputs": []
  },
  {
   "cell_type": "markdown",
   "metadata": {
    "id": "AXKiqd4vROOs"
   },
   "source": [
    "# Settings"
   ]
  },
  {
   "cell_type": "code",
   "execution_count": null,
   "metadata": {
    "id": "ix8FDOZLxYmy"
   },
   "source": [
    "Settings.llm = Groq(model=\"llama-3.2-90b-text-preview\", api_key=os.getenv(\"GROQ_API_KEY\"), temperature=0)\n",
    "Settings.embed_model = HuggingFaceEmbedding(model_name=\"BAAI/bge-small-en-v1.5\")"
   ],
   "outputs": []
  },
  {
   "cell_type": "markdown",
   "metadata": {
    "id": "Er5ehk1X_Stc"
   },
   "source": [
    "# Preprocessing"
   ]
  },
  {
   "cell_type": "markdown",
   "source": [
    "No preprocessing of training/guide docx file using LlamaParse."
   ],
   "metadata": {
    "id": "PxLiBJ3ag4Vm"
   }
  },
  {
   "cell_type": "code",
   "source": [
    "def split_into_paragraphs(text):\n",
    "  paragraphs = text.split('\\n\\n')\n",
    "  return [para.strip() for para in paragraphs if para.strip()]"
   ],
   "metadata": {
    "id": "rvz7prK4_9Rr"
   },
   "execution_count": null,
   "outputs": []
  },
  {
   "cell_type": "code",
   "execution_count": null,
   "metadata": {
    "id": "YeAt7OeLuaVT"
   },
   "source": [
    "# outdated_docs = LlamaParse(num_workers=8, split_by_page=0,  result_type=\"text\").load_data(\"demo_guide.docx\")\n",
    "direct = LlamaParse(num_workers=8, split_by_page=0, result_type=\"text\").load_data(\"direct.docx\")\n",
    "direct_header = LlamaParse(num_workers=8, split_by_page=0, result_type=\"text\").load_data(\"direct_header.docx\")\n",
    "instruction = LlamaParse(num_workers=8, split_by_page=0, result_type=\"text\").load_data(\"instruction.docx\")\n",
    "instruction_header = LlamaParse(num_workers=8, split_by_page=0, result_type=\"text\").load_data(\"instruction_header.docx\")"
   ],
   "outputs": []
  },
  {
   "cell_type": "code",
   "source": [
    "# Split the reference material\n",
    "direct = split_into_paragraphs(direct[0].text)\n",
    "direct_header = split_into_paragraphs(direct_header[0].text)\n",
    "instruction = split_into_paragraphs(instruction[0].text)\n",
    "instruction_header = split_into_paragraphs(instruction_header[0].text)"
   ],
   "metadata": {
    "id": "jPCZB-BnANAP"
   },
   "execution_count": null,
   "outputs": []
  },
  {
   "cell_type": "code",
   "source": [
    "from typing import List, Dict\n",
    "import re\n",
    "from docx import Document\n",
    "\n",
    "# process_document function\n",
    "def process_document(file_path: str):\n",
    "    # Create document object\n",
    "    document = Document(file_path)\n",
    "\n",
    "    # Split document into sections\n",
    "    sections = split_into_sections(document)\n",
    "\n",
    "    return sections\n",
    "\n",
    "def split_into_sections(document):\n",
    "    # Create list of sections\n",
    "    sections = []\n",
    "    current_section = {\"title\": \"\", \"content\": []}\n",
    "\n",
    "    # Iterate through each paragraph in the document\n",
    "    for paragraph in document.paragraphs:\n",
    "        # Check if the paragraph string starts with a numbered section\n",
    "        if re.match(r'^\\d+\\.', paragraph.text.strip()):\n",
    "            # If there is an existing current_section, append it to the list of sections\n",
    "            if current_section[\"title\"]:\n",
    "                sections.append(current_section)\n",
    "\n",
    "            # Create new current_section with new title and new content\n",
    "            current_section = {\"title\": paragraph.text.strip(), \"content\": []}\n",
    "        # If there is no title, append the paragraph text as the current_section's content\n",
    "        else:\n",
    "            current_section[\"content\"].append(paragraph.text)\n",
    "\n",
    "    if current_section[\"title\"]:\n",
    "        sections.append(current_section)\n",
    "\n",
    "    return sections\n",
    "\n",
    "# Process the document\n",
    "sections = process_document('demo_guide.docx')"
   ],
   "metadata": {
    "id": "jdqa967JhKb1"
   },
   "execution_count": null,
   "outputs": []
  },
  {
   "cell_type": "code",
   "source": [
    "# demo: Print each section\n",
    "for section in sections:\n",
    "    print(section)"
   ],
   "metadata": {
    "id": "MTucePtph496"
   },
   "execution_count": null,
   "outputs": []
  },
  {
   "cell_type": "code",
   "source": [
    "from llama_index.core import Document\n",
    "\n",
    "def create_documents(sections):\n",
    "  documents = []\n",
    "\n",
    "  for section in sections:\n",
    "    # Combine title and content into a single string\n",
    "    text = f\"{section['title']}\\n\\n\"\n",
    "\n",
    "    if isinstance(section['content'], list):\n",
    "      text += \"\\n\".join(section['content'])\n",
    "    else:\n",
    "      text += str(section['content'])\n",
    "\n",
    "    # Create Document object\n",
    "    doc = Document(text=text)\n",
    "    documents.append(doc)\n",
    "\n",
    "  return documents\n",
    "\n",
    "documents = create_documents(sections)"
   ],
   "metadata": {
    "id": "AJKNKANbjrjr"
   },
   "execution_count": null,
   "outputs": []
  },
  {
   "cell_type": "code",
   "source": [
    "from llama_index.core import VectorStoreIndex\n",
    "\n",
    "vector_index = VectorStoreIndex([])\n",
    "\n",
    "for doc in documents:\n",
    "  vector_index.insert(doc)"
   ],
   "metadata": {
    "id": "nnXw9p5Rlfcb"
   },
   "execution_count": null,
   "outputs": []
  },
  {
   "cell_type": "code",
   "source": [
    "from llama_index.core.node_parser import SentenceSplitter\n",
    "\n",
    "# parse nodes\n",
    "parser = SentenceSplitter()\n",
    "nodes = parser.get_nodes_from_documents(documents)"
   ],
   "metadata": {
    "id": "MxUgzE6FnvW0"
   },
   "execution_count": null,
   "outputs": []
  },
  {
   "cell_type": "markdown",
   "source": [
    "# Hybrid Retrieval"
   ],
   "metadata": {
    "id": "-bOkUFhMIZpw"
   }
  },
  {
   "cell_type": "code",
   "source": [
    "from llama_index.core.tools import RetrieverTool\n",
    "from llama_index.core.retrievers import  VectorIndexRetriever\n",
    "from llama_index.retrievers.bm25 import BM25Retriever\n",
    "\n",
    "vector_retriever = VectorIndexRetriever(vector_index)\n",
    "bm25_retriever = BM25Retriever.from_defaults(nodes=nodes, similarity_top_k=6)\n",
    "\n",
    "retriever_tools = [\n",
    "    RetrieverTool.from_defaults(\n",
    "        retriever=vector_retriever,\n",
    "        description=\"Useful in most cases\",\n",
    "    ),\n",
    "    RetrieverTool.from_defaults(\n",
    "        retriever=bm25_retriever,\n",
    "        description=\"Useful if searching about specific information\",\n",
    "    ),\n",
    "]"
   ],
   "metadata": {
    "id": "PFxwL7VoHX9n"
   },
   "execution_count": null,
   "outputs": []
  },
  {
   "cell_type": "code",
   "source": [
    "from llama_index.core.retrievers import RouterRetriever\n",
    "\n",
    "hybrid_retriever = RouterRetriever.from_defaults(\n",
    "    retriever_tools=retriever_tools,\n",
    "    select_multi=True,\n",
    ")"
   ],
   "metadata": {
    "id": "P4kysgyvHlex"
   },
   "execution_count": null,
   "outputs": []
  },
  {
   "cell_type": "code",
   "source": [
    "from llama_index.core.response.notebook_utils import display_source_node\n",
    "\n",
    "def hybrid_result(reference_material):\n",
    "  for i, update in enumerate(reference_material):\n",
    "    result=hybrid_retriever.retrieve(update)\n",
    "\n",
    "    display(Markdown(f\"#🔴 Reference {i+1}\"))\n",
    "    print(update)\n",
    "\n",
    "    display(Markdown(f\"#🔵 Retrieved Section\"))\n",
    "    # display_source_node(result[0])\n",
    "    print(result[0].text)\n",
    "    # print(chunk_map[result[0].node_id].text)"
   ],
   "metadata": {
    "id": "wW9l5GkIHu_w"
   },
   "execution_count": null,
   "outputs": []
  },
  {
   "cell_type": "markdown",
   "source": [
    "# Hybrid Retrieval Results\n",
    "No reranker"
   ],
   "metadata": {
    "id": "fMxlzUUBOpeJ"
   }
  },
  {
   "cell_type": "code",
   "source": [
    "hybrid_result(direct)"
   ],
   "metadata": {
    "id": "rfqStYDlJ6qd"
   },
   "execution_count": null,
   "outputs": []
  },
  {
   "cell_type": "code",
   "source": [
    "hybrid_result(direct_header)"
   ],
   "metadata": {
    "id": "YHEq6_ytJ6dZ"
   },
   "execution_count": null,
   "outputs": []
  },
  {
   "cell_type": "code",
   "source": [
    "hybrid_result(instruction)"
   ],
   "metadata": {
    "id": "OGOlffQTJ6ND"
   },
   "execution_count": null,
   "outputs": []
  },
  {
   "cell_type": "code",
   "source": [
    "hybrid_result(instruction_header)"
   ],
   "metadata": {
    "id": "1fD9h7AbIc9g"
   },
   "execution_count": null,
   "outputs": []
  },
  {
   "cell_type": "markdown",
   "source": [
    "# Rerank (LLM)"
   ],
   "metadata": {
    "id": "ZinWXHMmsvlU"
   }
  },
  {
   "cell_type": "code",
   "source": [
    "from llama_index.core.postprocessor.rankGPT_rerank import RankGPTRerank\n",
    "\n",
    "llm_reranker = RankGPTRerank(\n",
    "    # llm = Groq(model=\"llama3-70b-8192\"),\n",
    "    llm = Groq(model=\"llama-3.2-90b-text-preview\", temperature=0, max_tokens=8000),\n",
    "    top_n=3,\n",
    ")"
   ],
   "metadata": {
    "id": "gzGMqG-BDAec"
   },
   "execution_count": null,
   "outputs": []
  },
  {
   "cell_type": "code",
   "source": [
    "from llama_index.core import QueryBundle\n",
    "\n",
    "def reranked_result(reference_material):\n",
    "  for i, update in enumerate(reference_material):\n",
    "    query_bundle = QueryBundle(update)\n",
    "    retrieved_nodes=hybrid_retriever.retrieve(update)\n",
    "\n",
    "    result = llm_reranker.postprocess_nodes(retrieved_nodes, query_bundle)\n",
    "\n",
    "    display(Markdown(f\"#🔴 Reference {i+1}\"))\n",
    "    print(update)\n",
    "\n",
    "    display(Markdown(f\"#🔵 Retrieved Section\"))\n",
    "    print(result[0].text)"
   ],
   "metadata": {
    "id": "DsZeFvp_tIr8"
   },
   "execution_count": null,
   "outputs": []
  },
  {
   "cell_type": "code",
   "source": [
    "reranked_result(direct)"
   ],
   "metadata": {
    "id": "NQADZ-AltxJs",
    "collapsed": true
   },
   "execution_count": null,
   "outputs": []
  },
  {
   "cell_type": "code",
   "source": [
    "reranked_result(direct_header)"
   ],
   "metadata": {
    "id": "VPTnjvoftzjx"
   },
   "execution_count": null,
   "outputs": []
  },
  {
   "cell_type": "code",
   "source": [
    "reranked_result(instruction)"
   ],
   "metadata": {
    "id": "tC1mfzPetzqN"
   },
   "execution_count": null,
   "outputs": []
  },
  {
   "cell_type": "code",
   "source": [
    "reranked_result(instruction_header)"
   ],
   "metadata": {
    "id": "w2ar3vH3tzvw"
   },
   "execution_count": null,
   "outputs": []
  },
  {
   "cell_type": "markdown",
   "source": [
    "# Rerank (Sentence Transformer)"
   ],
   "metadata": {
    "id": "Pkh3F0u-Qgel"
   }
  },
  {
   "cell_type": "code",
   "source": [
    "from llama_index.core.postprocessor import SentenceTransformerRerank\n",
    "\n",
    "reranker = SentenceTransformerRerank(model=\"BAAI/bge-reranker-v2-m3\", top_n=3)"
   ],
   "metadata": {
    "id": "3CzOeHLkQxgV"
   },
   "execution_count": null,
   "outputs": []
  },
  {
   "cell_type": "code",
   "source": [
    "from llama_index.core import QueryBundle\n",
    "\n",
    "def reranked_result(reference_material):\n",
    "  for i, update in enumerate(reference_material):\n",
    "    query_bundle = QueryBundle(update)\n",
    "    retrieved_nodes=hybrid_retriever.retrieve(update)\n",
    "\n",
    "    result = llm_reranker.postprocess_nodes(retrieved_nodes, query_bundle)\n",
    "\n",
    "    display(Markdown(f\"#🔴 Reference {i+1}\"))\n",
    "    print(update)\n",
    "\n",
    "    display(Markdown(f\"#🔵 Retrieved Section\"))\n",
    "    print(result[0].text)"
   ],
   "metadata": {
    "id": "yrxmRRzFQ5cG"
   },
   "execution_count": null,
   "outputs": []
  },
  {
   "cell_type": "code",
   "source": [
    "reranked_result(direct)"
   ],
   "metadata": {
    "id": "Qt8nE4FAQ_Gu"
   },
   "execution_count": null,
   "outputs": []
  },
  {
   "cell_type": "code",
   "source": [
    "reranked_result(direct_header)"
   ],
   "metadata": {
    "id": "L3s6egzwQ_Gv"
   },
   "execution_count": null,
   "outputs": []
  },
  {
   "cell_type": "code",
   "source": [
    "reranked_result(instruction)"
   ],
   "metadata": {
    "id": "70eyc7Y3Q_Gw"
   },
   "execution_count": null,
   "outputs": []
  },
  {
   "cell_type": "code",
   "source": [
    "reranked_result(instruction_header)"
   ],
   "metadata": {
    "id": "7-_3jfzqQ_Gw"
   },
   "execution_count": null,
   "outputs": []
  },
  {
   "cell_type": "markdown",
   "source": [
    "# Rerank (Sentence Transformer)"
   ],
   "metadata": {
    "id": "gdOXqAry0m52"
   }
  },
  {
   "cell_type": "code",
   "source": [
    "from llama_index.core.postprocessor import SentenceTransformerRerank\n",
    "\n",
    "reranker = SentenceTransformerRerank(model=\"cross-encoder/ms-marco-MiniLM-L-2-v2\", top_n=3)"
   ],
   "metadata": {
    "id": "TBsaMO3k0m53"
   },
   "execution_count": null,
   "outputs": []
  },
  {
   "cell_type": "code",
   "source": [
    "reranked_result(direct)"
   ],
   "metadata": {
    "id": "f6qp4oV50uBH"
   },
   "execution_count": null,
   "outputs": []
  },
  {
   "cell_type": "code",
   "source": [
    "reranked_result(direct_header)"
   ],
   "metadata": {
    "id": "UGT-OfHn0uBH"
   },
   "execution_count": null,
   "outputs": []
  },
  {
   "cell_type": "code",
   "source": [
    "reranked_result(instruction)"
   ],
   "metadata": {
    "id": "FDmOjy4G0uBI"
   },
   "execution_count": null,
   "outputs": []
  },
  {
   "cell_type": "code",
   "source": [
    "reranked_result(instruction_header)"
   ],
   "metadata": {
    "id": "PL0XSiNc0uBI"
   },
   "execution_count": null,
   "outputs": []
  }
 ]
}
